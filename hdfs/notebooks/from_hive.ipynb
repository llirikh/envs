{
 "cells": [
  {
   "cell_type": "code",
   "execution_count": 5,
   "id": "5e13bed8-b6ac-458c-a58b-bdf488de9f7f",
   "metadata": {},
   "outputs": [],
   "source": [
    "from pyspark.sql import SparkSession\n",
    "\n",
    "spark = SparkSession.builder \\\n",
    "    .appName(\"from_hive\") \\\n",
    "    .master(\"spark://spark-master:7077\") \\\n",
    "    .config(\"spark.sql.catalogImplementation\", \"hive\") \\\n",
    "    .config(\"hive.metastore.uris\", \"thrift://hive-metastore:9083\") \\\n",
    "    .enableHiveSupport() \\\n",
    "    .getOrCreate()"
   ]
  },
  {
   "cell_type": "code",
   "execution_count": 6,
   "id": "2dc869b7-94fc-4a99-a75c-28ab99ddebda",
   "metadata": {},
   "outputs": [
    {
     "name": "stdout",
     "output_type": "stream",
     "text": [
      "+---------+\n",
      "|namespace|\n",
      "+---------+\n",
      "|  default|\n",
      "+---------+\n",
      "\n"
     ]
    }
   ],
   "source": [
    "df_load = spark.sql('show databases')\n",
    "df_load.show()"
   ]
  },
  {
   "cell_type": "code",
   "execution_count": 7,
   "id": "82266c00-a665-4f61-a236-3a952c198747",
   "metadata": {},
   "outputs": [],
   "source": [
    "spark.stop()"
   ]
  },
  {
   "cell_type": "markdown",
   "id": "49909733-f509-4333-ac95-adfadf3157e5",
   "metadata": {},
   "source": [
    "Попробуем создать из этого файла несколько паркетников"
   ]
  },
  {
   "cell_type": "code",
   "execution_count": 8,
   "id": "9cc269f9-a2ee-417e-a43f-2bebb05b0d44",
   "metadata": {},
   "outputs": [
    {
     "name": "stderr",
     "output_type": "stream",
     "text": [
      "                                                                                \r"
     ]
    }
   ],
   "source": [
    "from pyspark.sql import SparkSession\n",
    "\n",
    "spark = SparkSession.builder \\\n",
    "    .appName(\"csv_to_many_parquets\") \\\n",
    "    .master(\"spark://spark-master:7077\") \\\n",
    "    .config(\"spark.sql.catalogImplementation\", \"hive\") \\\n",
    "    .config(\"hive.metastore.uris\", \"thrift://hive-metastore:9083\") \\\n",
    "    .enableHiveSupport() \\\n",
    "    .getOrCreate()\n",
    "\n",
    "from pyspark.sql.types import StructType, StructField, IntegerType, StringType\n",
    "schema = StructType([\n",
    "    StructField(\"NUM\", IntegerType(), True),\n",
    "    StructField(\"NAME\", StringType(), True),\n",
    "    StructField(\"CITY\", StringType(), True),\n",
    "    StructField(\"STATE\", StringType(), True),\n",
    "    StructField(\"ID\", IntegerType(), True),\n",
    "])\n",
    "\n",
    "df = spark.read.option(\"header\", \"false\") \\\n",
    "    .schema(schema) \\\n",
    "    .csv(\"hdfs://namenode:9000/data/openbeer/breweries/breweries.csv\")\n",
    "\n",
    "df = df.repartition(4)\n",
    "df.write.mode(\"overwrite\").parquet(\"hdfs://namenode:9000/data/openbeer/breweries_parquet\")"
   ]
  },
  {
   "cell_type": "markdown",
   "id": "1146ab38-3028-4d00-9ec0-e864fdb30509",
   "metadata": {},
   "source": [
    "Теперь создадим таблицу в hive"
   ]
  },
  {
   "cell_type": "code",
   "execution_count": 9,
   "id": "d26e7bc6-441c-4e06-bb81-55b2518bc3c7",
   "metadata": {},
   "outputs": [
    {
     "name": "stderr",
     "output_type": "stream",
     "text": [
      "25/10/15 15:54:16 WARN SessionState: METASTORE_FILTER_HOOK will be ignored, since hive.security.authorization.manager is set to instance of HiveAuthorizerFactory.\n"
     ]
    },
    {
     "data": {
      "text/plain": [
       "DataFrame[]"
      ]
     },
     "execution_count": 9,
     "metadata": {},
     "output_type": "execute_result"
    }
   ],
   "source": [
    "spark.sql(\"\"\"\n",
    "CREATE EXTERNAL TABLE IF NOT EXISTS breweries_parquet(\n",
    "    NUM INT,\n",
    "    NAME STRING,\n",
    "    CITY STRING,\n",
    "    STATE STRING,\n",
    "    ID INT\n",
    ")\n",
    "STORED AS PARQUET\n",
    "LOCATION 'hdfs://namenode:9000/data/openbeer/breweries_parquet'\n",
    "\"\"\")"
   ]
  },
  {
   "cell_type": "code",
   "execution_count": 13,
   "id": "1fb74fb8-034d-453b-8d05-475175d578e3",
   "metadata": {},
   "outputs": [
    {
     "name": "stdout",
     "output_type": "stream",
     "text": [
      "+---------+-----------------+-----------+\n",
      "|namespace|        tableName|isTemporary|\n",
      "+---------+-----------------+-----------+\n",
      "|  default|breweries_parquet|      false|\n",
      "+---------+-----------------+-----------+\n",
      "\n"
     ]
    }
   ],
   "source": [
    "spark.sql(\"SHOW TABLES\").show()"
   ]
  },
  {
   "cell_type": "code",
   "execution_count": 14,
   "id": "c5d55593-6743-438c-b3f4-ab5ff663394c",
   "metadata": {},
   "outputs": [
    {
     "name": "stdout",
     "output_type": "stream",
     "text": [
      "+---+--------------------+------------------+-----+---+\n",
      "|NUM|                NAME|              CITY|STATE| ID|\n",
      "+---+--------------------+------------------+-----+---+\n",
      "| 77|    Blue Owl Brewing|            Austin|   TX| 77|\n",
      "|515|Crabtree Brewing ...|           Greeley|   CO|515|\n",
      "|222|Carton Brewing Co...|Atlantic Highlands|   NJ|222|\n",
      "|512|    Cottrell Brewing|         Pawcatuck|   CT|512|\n",
      "|332|La Cumbre Brewing...|       Albuquerque|   NM|332|\n",
      "|425|           Ciderboys|     Stevens Point|   WI|425|\n",
      "|483|Bale Breaker Brew...|            Yakima|   WA|483|\n",
      "|291|Tommyknocker Brewery|     Idaho Springs|   CO|291|\n",
      "|350|Central Coast Bre...|   San Luis Obispo|   CA|350|\n",
      "|334|The Traveler Beer...|        Burlington|   VT|334|\n",
      "|327|Half Acre Beer Co...|           Chicago|   IL|327|\n",
      "|299|Matt Brewing Company|             Utica|   NY|299|\n",
      "|311|Dirty Bucket Brew...|       Woodinville|   WA|311|\n",
      "|479|     Heavy Seas Beer|        Halethorpe|   MD|479|\n",
      "|528|Asheville Brewing...|         Asheville|   NC|528|\n",
      "|534|Mammoth Brewing C...|     Mammoth Lakes|   CA|534|\n",
      "|345|Lavery Brewing Co...|              Erie|   PA|345|\n",
      "|196|Goose Island Brew...|           Chicago|   IL|196|\n",
      "|320|Claremont Craft Ales|         Claremont|   CA|320|\n",
      "| 57|     Destihl Brewery|       Bloomington|   IL| 57|\n",
      "+---+--------------------+------------------+-----+---+\n",
      "only showing top 20 rows\n",
      "\n"
     ]
    }
   ],
   "source": [
    "spark.sql(\"SELECT * FROM default.breweries_parquet\").show()"
   ]
  },
  {
   "cell_type": "code",
   "execution_count": 15,
   "id": "84ee1750-823e-43e7-a9be-3e7190655f9a",
   "metadata": {},
   "outputs": [],
   "source": [
    "spark.stop()"
   ]
  },
  {
   "cell_type": "code",
   "execution_count": null,
   "id": "0e109718-2e80-458a-9104-88e10c1406d1",
   "metadata": {},
   "outputs": [],
   "source": []
  }
 ],
 "metadata": {
  "kernelspec": {
   "display_name": "Python 3 (ipykernel)",
   "language": "python",
   "name": "python3"
  },
  "language_info": {
   "codemirror_mode": {
    "name": "ipython",
    "version": 3
   },
   "file_extension": ".py",
   "mimetype": "text/x-python",
   "name": "python",
   "nbconvert_exporter": "python",
   "pygments_lexer": "ipython3",
   "version": "3.11.6"
  }
 },
 "nbformat": 4,
 "nbformat_minor": 5
}
