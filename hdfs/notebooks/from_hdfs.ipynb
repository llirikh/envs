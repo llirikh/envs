{
 "cells": [
  {
   "cell_type": "code",
   "execution_count": 1,
   "id": "57829df7-c15c-4658-8a5b-8b255aa4a85e",
   "metadata": {},
   "outputs": [
    {
     "name": "stderr",
     "output_type": "stream",
     "text": [
      "Setting default log level to \"WARN\".\n",
      "To adjust logging level use sc.setLogLevel(newLevel). For SparkR, use setLogLevel(newLevel).\n",
      "25/10/09 14:06:42 WARN NativeCodeLoader: Unable to load native-hadoop library for your platform... using builtin-java classes where applicable\n"
     ]
    }
   ],
   "source": [
    "from pyspark.sql import SparkSession\n",
    "\n",
    "spark = SparkSession.builder \\\n",
    "    .appName(\"HDFS_Test\") \\\n",
    "    .master(\"spark://spark-master:7077\") \\\n",
    "    .getOrCreate()"
   ]
  },
  {
   "cell_type": "code",
   "execution_count": 3,
   "id": "8febb300-5ae6-4139-a46f-5bdb2e94e715",
   "metadata": {},
   "outputs": [
    {
     "name": "stderr",
     "output_type": "stream",
     "text": [
      "[Stage 3:>                                                          (0 + 1) / 1]\r"
     ]
    },
    {
     "name": "stdout",
     "output_type": "stream",
     "text": [
      "+---+--------------------+-------------+-----+---+\n",
      "|_c0|                name|         city|state| id|\n",
      "+---+--------------------+-------------+-----+---+\n",
      "|  0|  NorthGate Brewing |  Minneapolis|   MN|  0|\n",
      "|  1|Against the Grain...|   Louisville|   KY|  1|\n",
      "|  2|Jack's Abby Craft...|   Framingham|   MA|  2|\n",
      "|  3|Mike Hess Brewing...|    San Diego|   CA|  3|\n",
      "|  4|Fort Point Beer C...|San Francisco|   CA|  4|\n",
      "|  5|COAST Brewing Com...|   Charleston|   SC|  5|\n",
      "|  6|Great Divide Brew...|       Denver|   CO|  6|\n",
      "|  7|    Tapistry Brewing|     Bridgman|   MI|  7|\n",
      "|  8|    Big Lake Brewing|      Holland|   MI|  8|\n",
      "|  9|The Mitten Brewin...| Grand Rapids|   MI|  9|\n",
      "| 10|      Brewery Vivant| Grand Rapids|   MI| 10|\n",
      "| 11|    Petoskey Brewing|     Petoskey|   MI| 11|\n",
      "| 12|  Blackrocks Brewery|    Marquette|   MI| 12|\n",
      "| 13|Perrin Brewing Co...|Comstock Park|   MI| 13|\n",
      "| 14|Witch's Hat Brewi...|   South Lyon|   MI| 14|\n",
      "| 15|Founders Brewing ...| Grand Rapids|   MI| 15|\n",
      "| 16|   Flat 12 Bierwerks| Indianapolis|   IN| 16|\n",
      "| 17|Tin Man Brewing C...|   Evansville|   IN| 17|\n",
      "| 18|Black Acre Brewin...| Indianapolis|   IN| 18|\n",
      "| 19|   Brew Link Brewing|   Plainfield|   IN| 19|\n",
      "+---+--------------------+-------------+-----+---+\n",
      "only showing top 20 rows\n",
      "\n"
     ]
    },
    {
     "name": "stderr",
     "output_type": "stream",
     "text": [
      "25/10/09 14:57:18 ERROR StandaloneSchedulerBackend: Application has been killed. Reason: Master removed our application: KILLED\n",
      "25/10/09 14:57:19 ERROR Inbox: Ignoring error\n",
      "org.apache.spark.SparkException: Exiting due to error from cluster scheduler: Master removed our application: KILLED\n",
      "\tat org.apache.spark.errors.SparkCoreErrors$.clusterSchedulerError(SparkCoreErrors.scala:291)\n",
      "\tat org.apache.spark.scheduler.TaskSchedulerImpl.error(TaskSchedulerImpl.scala:981)\n",
      "\tat org.apache.spark.scheduler.cluster.StandaloneSchedulerBackend.dead(StandaloneSchedulerBackend.scala:165)\n",
      "\tat org.apache.spark.deploy.client.StandaloneAppClient$ClientEndpoint.markDead(StandaloneAppClient.scala:263)\n",
      "\tat org.apache.spark.deploy.client.StandaloneAppClient$ClientEndpoint$$anonfun$receive$1.applyOrElse(StandaloneAppClient.scala:170)\n",
      "\tat org.apache.spark.rpc.netty.Inbox.$anonfun$process$1(Inbox.scala:115)\n",
      "\tat org.apache.spark.rpc.netty.Inbox.safelyCall(Inbox.scala:213)\n",
      "\tat org.apache.spark.rpc.netty.Inbox.process(Inbox.scala:100)\n",
      "\tat org.apache.spark.rpc.netty.MessageLoop.org$apache$spark$rpc$netty$MessageLoop$$receiveLoop(MessageLoop.scala:75)\n",
      "\tat org.apache.spark.rpc.netty.MessageLoop$$anon$1.run(MessageLoop.scala:41)\n",
      "\tat java.base/java.util.concurrent.ThreadPoolExecutor.runWorker(ThreadPoolExecutor.java:1136)\n",
      "\tat java.base/java.util.concurrent.ThreadPoolExecutor$Worker.run(ThreadPoolExecutor.java:635)\n",
      "\tat java.base/java.lang.Thread.run(Thread.java:840)\n"
     ]
    }
   ],
   "source": [
    "df = spark.read.csv(\"hdfs://namenode:9000/data/openbeer/breweries/breweries.csv\", header=True, inferSchema=True)\n",
    "df.show()"
   ]
  },
  {
   "cell_type": "code",
   "execution_count": null,
   "id": "c505164d-e439-4822-ad48-40d6a21b1e94",
   "metadata": {},
   "outputs": [],
   "source": []
  }
 ],
 "metadata": {
  "kernelspec": {
   "display_name": "Python 3 (ipykernel)",
   "language": "python",
   "name": "python3"
  },
  "language_info": {
   "codemirror_mode": {
    "name": "ipython",
    "version": 3
   },
   "file_extension": ".py",
   "mimetype": "text/x-python",
   "name": "python",
   "nbconvert_exporter": "python",
   "pygments_lexer": "ipython3",
   "version": "3.11.6"
  }
 },
 "nbformat": 4,
 "nbformat_minor": 5
}
