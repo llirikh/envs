{
 "cells": [
  {
   "cell_type": "code",
   "execution_count": 4,
   "id": "57829df7-c15c-4658-8a5b-8b255aa4a85e",
   "metadata": {},
   "outputs": [],
   "source": [
    "from pyspark.sql import SparkSession\n",
    "\n",
    "spark = SparkSession.builder \\\n",
    "    .appName(\"from_hdfs\") \\\n",
    "    .master(\"spark://spark-master:7077\") \\\n",
    "    .getOrCreate()"
   ]
  },
  {
   "cell_type": "code",
   "execution_count": 5,
   "id": "8febb300-5ae6-4139-a46f-5bdb2e94e715",
   "metadata": {},
   "outputs": [
    {
     "name": "stderr",
     "output_type": "stream",
     "text": [
      "                                                                                \r"
     ]
    },
    {
     "name": "stdout",
     "output_type": "stream",
     "text": [
      "+---+--------------------+-------------+-----+---+\n",
      "|_c0|                name|         city|state| id|\n",
      "+---+--------------------+-------------+-----+---+\n",
      "|  0|  NorthGate Brewing |  Minneapolis|   MN|  0|\n",
      "|  1|Against the Grain...|   Louisville|   KY|  1|\n",
      "|  2|Jack's Abby Craft...|   Framingham|   MA|  2|\n",
      "|  3|Mike Hess Brewing...|    San Diego|   CA|  3|\n",
      "|  4|Fort Point Beer C...|San Francisco|   CA|  4|\n",
      "|  5|COAST Brewing Com...|   Charleston|   SC|  5|\n",
      "|  6|Great Divide Brew...|       Denver|   CO|  6|\n",
      "|  7|    Tapistry Brewing|     Bridgman|   MI|  7|\n",
      "|  8|    Big Lake Brewing|      Holland|   MI|  8|\n",
      "|  9|The Mitten Brewin...| Grand Rapids|   MI|  9|\n",
      "| 10|      Brewery Vivant| Grand Rapids|   MI| 10|\n",
      "| 11|    Petoskey Brewing|     Petoskey|   MI| 11|\n",
      "| 12|  Blackrocks Brewery|    Marquette|   MI| 12|\n",
      "| 13|Perrin Brewing Co...|Comstock Park|   MI| 13|\n",
      "| 14|Witch's Hat Brewi...|   South Lyon|   MI| 14|\n",
      "| 15|Founders Brewing ...| Grand Rapids|   MI| 15|\n",
      "| 16|   Flat 12 Bierwerks| Indianapolis|   IN| 16|\n",
      "| 17|Tin Man Brewing C...|   Evansville|   IN| 17|\n",
      "| 18|Black Acre Brewin...| Indianapolis|   IN| 18|\n",
      "| 19|   Brew Link Brewing|   Plainfield|   IN| 19|\n",
      "+---+--------------------+-------------+-----+---+\n",
      "only showing top 20 rows\n",
      "\n"
     ]
    }
   ],
   "source": [
    "df = spark.read.csv(\"hdfs://namenode:9000/data/openbeer/breweries/breweries.csv\", header=True, inferSchema=True)\n",
    "df.show()"
   ]
  },
  {
   "cell_type": "code",
   "execution_count": 6,
   "id": "c505164d-e439-4822-ad48-40d6a21b1e94",
   "metadata": {},
   "outputs": [],
   "source": [
    "spark.stop()"
   ]
  },
  {
   "cell_type": "code",
   "execution_count": null,
   "id": "eaa3a396-eca7-48ab-be7c-876892b0893a",
   "metadata": {},
   "outputs": [],
   "source": []
  }
 ],
 "metadata": {
  "kernelspec": {
   "display_name": "Python 3 (ipykernel)",
   "language": "python",
   "name": "python3"
  },
  "language_info": {
   "codemirror_mode": {
    "name": "ipython",
    "version": 3
   },
   "file_extension": ".py",
   "mimetype": "text/x-python",
   "name": "python",
   "nbconvert_exporter": "python",
   "pygments_lexer": "ipython3",
   "version": "3.11.6"
  }
 },
 "nbformat": 4,
 "nbformat_minor": 5
}
