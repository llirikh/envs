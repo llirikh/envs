{
 "cells": [
  {
   "cell_type": "markdown",
   "id": "63a36166-d1e3-4585-aed2-160423cc4378",
   "metadata": {},
   "source": [
    "Создаём базу данных и Hive таблицу для потоковых данных"
   ]
  },
  {
   "cell_type": "code",
   "execution_count": 1,
   "id": "50f17655-4c24-477c-86e1-db556f88d556",
   "metadata": {},
   "outputs": [
    {
     "name": "stderr",
     "output_type": "stream",
     "text": [
      "Warning: Ignoring non-Spark config property: hive.metastore.uris\n",
      "Setting default log level to \"WARN\".\n",
      "To adjust logging level use sc.setLogLevel(newLevel). For SparkR, use setLogLevel(newLevel).\n",
      "25/10/15 16:17:26 WARN NativeCodeLoader: Unable to load native-hadoop library for your platform... using builtin-java classes where applicable\n"
     ]
    },
    {
     "data": {
      "text/plain": [
       "DataFrame[]"
      ]
     },
     "execution_count": 1,
     "metadata": {},
     "output_type": "execute_result"
    }
   ],
   "source": [
    "from pyspark.sql import SparkSession\n",
    "\n",
    "spark = SparkSession.builder \\\n",
    "    .appName(\"StreamingHiveExample\") \\\n",
    "    .master(\"spark://spark-master:7077\") \\\n",
    "    .config(\"spark.sql.catalogImplementation\", \"hive\") \\\n",
    "    .config(\"hive.metastore.uris\", \"thrift://hive-metastore:9083\") \\\n",
    "    .enableHiveSupport() \\\n",
    "    .getOrCreate()\n",
    "\n",
    "# создаём новую базу\n",
    "spark.sql(\"CREATE DATABASE IF NOT EXISTS streaming_test\")\n",
    "\n",
    "# создаём EXTERNAL TABLE на Parquet\n",
    "spark.sql(\"\"\"\n",
    "CREATE EXTERNAL TABLE IF NOT EXISTS streaming_test.breweries_stream(\n",
    "    NUM INT,\n",
    "    NAME STRING,\n",
    "    CITY STRING,\n",
    "    STATE STRING,\n",
    "    ID INT\n",
    ")\n",
    "STORED AS PARQUET\n",
    "LOCATION 'hdfs://namenode:9000/data/openbeer/streaming_breweries'\n",
    "\"\"\")"
   ]
  },
  {
   "cell_type": "code",
   "execution_count": 2,
   "id": "9a44209b-0f7a-466d-9592-748385521cf6",
   "metadata": {},
   "outputs": [],
   "source": [
    "spark.stop()"
   ]
  },
  {
   "cell_type": "markdown",
   "id": "8b197761-6c90-40ed-b1f0-dcd68d3501f9",
   "metadata": {},
   "source": [
    "Запустим наполнение streaming_test.breweries_stream"
   ]
  },
  {
   "cell_type": "code",
   "execution_count": null,
   "id": "60871379-0698-412c-8ec6-776c8b524a28",
   "metadata": {},
   "outputs": [],
   "source": []
  },
  {
   "cell_type": "markdown",
   "id": "4013ea3e",
   "metadata": {},
   "source": [
    "Считываем паркеты"
   ]
  },
  {
   "cell_type": "code",
   "execution_count": 1,
   "id": "6f507bdc-3e40-43b3-bab6-3491983ff21c",
   "metadata": {},
   "outputs": [
    {
     "name": "stderr",
     "output_type": "stream",
     "text": [
      "Warning: Ignoring non-Spark config property: hive.metastore.uris\n",
      "Setting default log level to \"WARN\".\n",
      "To adjust logging level use sc.setLogLevel(newLevel). For SparkR, use setLogLevel(newLevel).\n",
      "25/10/15 16:21:54 WARN NativeCodeLoader: Unable to load native-hadoop library for your platform... using builtin-java classes where applicable\n"
     ]
    }
   ],
   "source": [
    "from pyspark.sql import SparkSession\n",
    "\n",
    "spark = SparkSession.builder \\\n",
    "    .appName(\"StreamingRead\") \\\n",
    "    .master(\"spark://spark-master:7077\") \\\n",
    "    .config(\"spark.sql.catalogImplementation\", \"hive\") \\\n",
    "    .config(\"hive.metastore.uris\", \"thrift://hive-metastore:9083\") \\\n",
    "    .enableHiveSupport() \\\n",
    "    .getOrCreate()"
   ]
  },
  {
   "cell_type": "code",
   "execution_count": null,
   "id": "449dbadc-fcba-4ea4-a19c-e88d3e95d508",
   "metadata": {},
   "outputs": [
    {
     "name": "stderr",
     "output_type": "stream",
     "text": [
      "25/10/15 16:22:06 WARN ResolveWriteToStream: Temporary checkpoint location created which is deleted normally when the query didn't fail: /tmp/temporary-3289bf51-436c-4cdb-a0a7-c431f6fb0783. If it's required to delete it under any circumstances, please set spark.sql.streaming.forceDeleteTempCheckpointLocation to true. Important to know deleting temp checkpoint folder is best effort.\n",
      "25/10/15 16:22:06 WARN ResolveWriteToStream: spark.sql.adaptive.enabled is not supported in streaming DataFrames/Datasets and will be disabled.\n",
      "                                                                                \r"
     ]
    },
    {
     "name": "stdout",
     "output_type": "stream",
     "text": [
      "-------------------------------------------\n",
      "Batch: 0\n",
      "-------------------------------------------\n",
      "+---+---------------+--------+-----+----+\n",
      "|NUM|           NAME|    CITY|STATE|  ID|\n",
      "+---+---------------+--------+-----+----+\n",
      "| 10|Test_Brewery_10|TestCity|   TS|1010|\n",
      "| 11|Test_Brewery_11|TestCity|   TS|1011|\n",
      "| 13|Test_Brewery_13|TestCity|   TS|1013|\n",
      "| 17|Test_Brewery_17|TestCity|   TS|1017|\n",
      "| 18|Test_Brewery_18|TestCity|   TS|1018|\n",
      "| 19|Test_Brewery_19|TestCity|   TS|1019|\n",
      "| 20|Test_Brewery_20|TestCity|   TS|1020|\n",
      "| 21|Test_Brewery_21|TestCity|   TS|1021|\n",
      "| 22|Test_Brewery_22|TestCity|   TS|1022|\n",
      "| 23|Test_Brewery_23|TestCity|   TS|1023|\n",
      "| 24|Test_Brewery_24|TestCity|   TS|1024|\n",
      "| 12|Test_Brewery_12|TestCity|   TS|1012|\n",
      "| 14|Test_Brewery_14|TestCity|   TS|1014|\n",
      "| 15|Test_Brewery_15|TestCity|   TS|1015|\n",
      "| 16|Test_Brewery_16|TestCity|   TS|1016|\n",
      "|  0| Test_Brewery_0|TestCity|   TS|1000|\n",
      "|  0| Test_Brewery_0|TestCity|   TS|1000|\n",
      "|  1| Test_Brewery_1|TestCity|   TS|1001|\n",
      "|  2| Test_Brewery_2|TestCity|   TS|1002|\n",
      "|  3| Test_Brewery_3|TestCity|   TS|1003|\n",
      "+---+---------------+--------+-----+----+\n",
      "only showing top 20 rows\n",
      "\n",
      "-------------------------------------------\n",
      "Batch: 1\n",
      "-------------------------------------------\n",
      "+---+---------------+--------+-----+----+\n",
      "|NUM|           NAME|    CITY|STATE|  ID|\n",
      "+---+---------------+--------+-----+----+\n",
      "| 25|Test_Brewery_25|TestCity|   TS|1025|\n",
      "+---+---------------+--------+-----+----+\n",
      "\n",
      "-------------------------------------------\n",
      "Batch: 2\n",
      "-------------------------------------------\n",
      "+---+---------------+--------+-----+----+\n",
      "|NUM|           NAME|    CITY|STATE|  ID|\n",
      "+---+---------------+--------+-----+----+\n",
      "| 26|Test_Brewery_26|TestCity|   TS|1026|\n",
      "+---+---------------+--------+-----+----+\n",
      "\n",
      "-------------------------------------------\n",
      "Batch: 3\n",
      "-------------------------------------------\n",
      "+---+---------------+--------+-----+----+\n",
      "|NUM|           NAME|    CITY|STATE|  ID|\n",
      "+---+---------------+--------+-----+----+\n",
      "| 27|Test_Brewery_27|TestCity|   TS|1027|\n",
      "+---+---------------+--------+-----+----+\n",
      "\n",
      "-------------------------------------------\n",
      "Batch: 4\n",
      "-------------------------------------------\n",
      "+---+---------------+--------+-----+----+\n",
      "|NUM|           NAME|    CITY|STATE|  ID|\n",
      "+---+---------------+--------+-----+----+\n",
      "| 28|Test_Brewery_28|TestCity|   TS|1028|\n",
      "+---+---------------+--------+-----+----+\n",
      "\n",
      "-------------------------------------------\n",
      "Batch: 5\n",
      "-------------------------------------------\n",
      "+---+---------------+--------+-----+----+\n",
      "|NUM|           NAME|    CITY|STATE|  ID|\n",
      "+---+---------------+--------+-----+----+\n",
      "| 29|Test_Brewery_29|TestCity|   TS|1029|\n",
      "+---+---------------+--------+-----+----+\n",
      "\n",
      "-------------------------------------------\n",
      "Batch: 6\n",
      "-------------------------------------------\n",
      "+---+---------------+--------+-----+----+\n",
      "|NUM|           NAME|    CITY|STATE|  ID|\n",
      "+---+---------------+--------+-----+----+\n",
      "| 30|Test_Brewery_30|TestCity|   TS|1030|\n",
      "+---+---------------+--------+-----+----+\n",
      "\n",
      "-------------------------------------------\n",
      "Batch: 7\n",
      "-------------------------------------------\n",
      "+---+---------------+--------+-----+----+\n",
      "|NUM|           NAME|    CITY|STATE|  ID|\n",
      "+---+---------------+--------+-----+----+\n",
      "| 31|Test_Brewery_31|TestCity|   TS|1031|\n",
      "+---+---------------+--------+-----+----+\n",
      "\n",
      "-------------------------------------------\n",
      "Batch: 8\n",
      "-------------------------------------------\n",
      "+---+---------------+--------+-----+----+\n",
      "|NUM|           NAME|    CITY|STATE|  ID|\n",
      "+---+---------------+--------+-----+----+\n",
      "| 32|Test_Brewery_32|TestCity|   TS|1032|\n",
      "+---+---------------+--------+-----+----+\n",
      "\n",
      "-------------------------------------------\n",
      "Batch: 9\n",
      "-------------------------------------------\n",
      "+---+---------------+--------+-----+----+\n",
      "|NUM|           NAME|    CITY|STATE|  ID|\n",
      "+---+---------------+--------+-----+----+\n",
      "| 33|Test_Brewery_33|TestCity|   TS|1033|\n",
      "+---+---------------+--------+-----+----+\n",
      "\n"
     ]
    }
   ],
   "source": [
    "streaming_df = spark.readStream \\\n",
    "    .schema(\"NUM INT, NAME STRING, CITY STRING, STATE STRING, ID INT\") \\\n",
    "    .parquet(\"hdfs://namenode:9000/data/openbeer/streaming_breweries\")\n",
    "\n",
    "query = streaming_df.writeStream \\\n",
    "    .outputMode(\"append\") \\\n",
    "    .format(\"console\") \\\n",
    "    .start()\n",
    "\n",
    "query.awaitTermination()"
   ]
  },
  {
   "cell_type": "code",
   "execution_count": null,
   "id": "971967b2-a01c-47e7-a37d-076a92de884c",
   "metadata": {},
   "outputs": [],
   "source": [
    "spark.stop()"
   ]
  },
  {
   "cell_type": "code",
   "execution_count": null,
   "id": "9633bd55-e202-4a57-b114-54c6a70577d1",
   "metadata": {},
   "outputs": [],
   "source": []
  }
 ],
 "metadata": {
  "kernelspec": {
   "display_name": "Python 3 (ipykernel)",
   "language": "python",
   "name": "python3"
  },
  "language_info": {
   "codemirror_mode": {
    "name": "ipython",
    "version": 3
   },
   "file_extension": ".py",
   "mimetype": "text/x-python",
   "name": "python",
   "nbconvert_exporter": "python",
   "pygments_lexer": "ipython3",
   "version": "3.11.6"
  }
 },
 "nbformat": 4,
 "nbformat_minor": 5
}
