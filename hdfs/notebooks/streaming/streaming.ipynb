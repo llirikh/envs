{
 "cells": [
  {
   "cell_type": "markdown",
   "id": "63a36166-d1e3-4585-aed2-160423cc4378",
   "metadata": {},
   "source": [
    "Создаём базу данных и Hive таблицу для потоковых данных"
   ]
  },
  {
   "cell_type": "code",
   "execution_count": 2,
   "id": "50f17655-4c24-477c-86e1-db556f88d556",
   "metadata": {},
   "outputs": [
    {
     "name": "stderr",
     "output_type": "stream",
     "text": [
      "Warning: Ignoring non-Spark config property: hive.metastore.uris\n",
      "Setting default log level to \"WARN\".\n",
      "To adjust logging level use sc.setLogLevel(newLevel). For SparkR, use setLogLevel(newLevel).\n",
      "25/10/09 15:47:03 WARN NativeCodeLoader: Unable to load native-hadoop library for your platform... using builtin-java classes where applicable\n",
      "25/10/09 15:47:07 WARN SessionState: METASTORE_FILTER_HOOK will be ignored, since hive.security.authorization.manager is set to instance of HiveAuthorizerFactory.\n"
     ]
    },
    {
     "data": {
      "text/plain": [
       "DataFrame[]"
      ]
     },
     "execution_count": 2,
     "metadata": {},
     "output_type": "execute_result"
    }
   ],
   "source": [
    "from pyspark.sql import SparkSession\n",
    "\n",
    "spark = SparkSession.builder \\\n",
    "    .appName(\"StreamingHiveExample\") \\\n",
    "    .master(\"spark://spark-master:7077\") \\\n",
    "    .config(\"spark.sql.catalogImplementation\", \"hive\") \\\n",
    "    .config(\"hive.metastore.uris\", \"thrift://hive-metastore:9083\") \\\n",
    "    .enableHiveSupport() \\\n",
    "    .getOrCreate()\n",
    "\n",
    "# создаём новую базу\n",
    "spark.sql(\"CREATE DATABASE IF NOT EXISTS streaming_test\")\n",
    "\n",
    "# создаём EXTERNAL TABLE на Parquet\n",
    "spark.sql(\"\"\"\n",
    "CREATE EXTERNAL TABLE IF NOT EXISTS streaming_test.breweries_stream(\n",
    "    NUM INT,\n",
    "    NAME STRING,\n",
    "    CITY STRING,\n",
    "    STATE STRING,\n",
    "    ID INT\n",
    ")\n",
    "STORED AS PARQUET\n",
    "LOCATION 'hdfs://namenode:9000/data/openbeer/streaming_breweries'\n",
    "\"\"\")"
   ]
  },
  {
   "cell_type": "code",
   "execution_count": null,
   "id": "8768a09e",
   "metadata": {},
   "outputs": [],
   "source": []
  },
  {
   "cell_type": "markdown",
   "id": "4013ea3e",
   "metadata": {},
   "source": [
    "Считываем паркеты"
   ]
  },
  {
   "cell_type": "code",
   "execution_count": null,
   "id": "6f507bdc-3e40-43b3-bab6-3491983ff21c",
   "metadata": {},
   "outputs": [],
   "source": [
    "from pyspark.sql import SparkSession\n",
    "\n",
    "spark = SparkSession.builder \\\n",
    "    .appName(\"StreamingRead\") \\\n",
    "    .master(\"spark://spark-master:7077\") \\\n",
    "    .config(\"spark.sql.catalogImplementation\", \"hive\") \\\n",
    "    .config(\"hive.metastore.uris\", \"thrift://hive-metastore:9083\") \\\n",
    "    .enableHiveSupport() \\\n",
    "    .getOrCreate()\n",
    "\n",
    "# читаем поток Parquet файлов\n",
    "streaming_df = spark.readStream \\\n",
    "    .schema(\"NUM INT, NAME STRING, CITY STRING, STATE STRING, ID INT\") \\\n",
    "    .parquet(\"hdfs://namenode:9000/data/openbeer/streaming_breweries\")\n",
    "\n",
    "# выводим в консоль (для теста)\n",
    "query = streaming_df.writeStream \\\n",
    "    .outputMode(\"append\") \\\n",
    "    .format(\"console\") \\\n",
    "    .start()\n",
    "\n",
    "query.awaitTermination()\n"
   ]
  }
 ],
 "metadata": {
  "kernelspec": {
   "display_name": "Python 3 (ipykernel)",
   "language": "python",
   "name": "python3"
  },
  "language_info": {
   "codemirror_mode": {
    "name": "ipython",
    "version": 3
   },
   "file_extension": ".py",
   "mimetype": "text/x-python",
   "name": "python",
   "nbconvert_exporter": "python",
   "pygments_lexer": "ipython3",
   "version": "3.11.6"
  }
 },
 "nbformat": 4,
 "nbformat_minor": 5
}
