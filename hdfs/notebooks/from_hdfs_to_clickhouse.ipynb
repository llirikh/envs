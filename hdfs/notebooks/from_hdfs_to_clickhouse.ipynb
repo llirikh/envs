{
 "cells": [
  {
   "cell_type": "code",
   "execution_count": 4,
   "id": "57829df7-c15c-4658-8a5b-8b255aa4a85e",
   "metadata": {},
   "outputs": [],
   "source": [
    "from pyspark.sql import SparkSession\n",
    "\n",
    "spark = SparkSession.builder \\\n",
    "    .appName(\"from_hdfs\") \\\n",
    "    .master(\"spark://spark-master:7077\") \\\n",
    "    .getOrCreate()"
   ]
  },
  {
   "cell_type": "code",
   "execution_count": 5,
   "id": "8febb300-5ae6-4139-a46f-5bdb2e94e715",
   "metadata": {},
   "outputs": [
    {
     "name": "stderr",
     "output_type": "stream",
     "text": [
      "                                                                                \r"
     ]
    },
    {
     "name": "stdout",
     "output_type": "stream",
     "text": [
      "+---+--------------------+-------------+-----+---+\n",
      "|_c0|                name|         city|state| id|\n",
      "+---+--------------------+-------------+-----+---+\n",
      "|  0|  NorthGate Brewing |  Minneapolis|   MN|  0|\n",
      "|  1|Against the Grain...|   Louisville|   KY|  1|\n",
      "|  2|Jack's Abby Craft...|   Framingham|   MA|  2|\n",
      "|  3|Mike Hess Brewing...|    San Diego|   CA|  3|\n",
      "|  4|Fort Point Beer C...|San Francisco|   CA|  4|\n",
      "|  5|COAST Brewing Com...|   Charleston|   SC|  5|\n",
      "|  6|Great Divide Brew...|       Denver|   CO|  6|\n",
      "|  7|    Tapistry Brewing|     Bridgman|   MI|  7|\n",
      "|  8|    Big Lake Brewing|      Holland|   MI|  8|\n",
      "|  9|The Mitten Brewin...| Grand Rapids|   MI|  9|\n",
      "| 10|      Brewery Vivant| Grand Rapids|   MI| 10|\n",
      "| 11|    Petoskey Brewing|     Petoskey|   MI| 11|\n",
      "| 12|  Blackrocks Brewery|    Marquette|   MI| 12|\n",
      "| 13|Perrin Brewing Co...|Comstock Park|   MI| 13|\n",
      "| 14|Witch's Hat Brewi...|   South Lyon|   MI| 14|\n",
      "| 15|Founders Brewing ...| Grand Rapids|   MI| 15|\n",
      "| 16|   Flat 12 Bierwerks| Indianapolis|   IN| 16|\n",
      "| 17|Tin Man Brewing C...|   Evansville|   IN| 17|\n",
      "| 18|Black Acre Brewin...| Indianapolis|   IN| 18|\n",
      "| 19|   Brew Link Brewing|   Plainfield|   IN| 19|\n",
      "+---+--------------------+-------------+-----+---+\n",
      "only showing top 20 rows\n",
      "\n"
     ]
    }
   ],
   "source": [
    "df = spark.read.csv(\"hdfs://namenode:9000/data/openbeer/breweries/breweries.csv\", header=True, inferSchema=True)\n",
    "df.show()"
   ]
  },
  {
   "cell_type": "code",
   "execution_count": 6,
   "id": "c505164d-e439-4822-ad48-40d6a21b1e94",
   "metadata": {},
   "outputs": [],
   "source": [
    "spark.stop()"
   ]
  },
  {
   "cell_type": "code",
   "execution_count": 1,
   "id": "eaa3a396-eca7-48ab-be7c-876892b0893a",
   "metadata": {},
   "outputs": [
    {
     "name": "stdout",
     "output_type": "stream",
     "text": [
      ":: loading settings :: url = jar:file:/opt/conda/lib/python3.11/site-packages/pyspark/jars/ivy-2.5.1.jar!/org/apache/ivy/core/settings/ivysettings.xml\n"
     ]
    },
    {
     "name": "stderr",
     "output_type": "stream",
     "text": [
      "Ivy Default Cache set to: /home/jovyan/.ivy2/cache\n",
      "The jars for the packages stored in: /home/jovyan/.ivy2/jars\n",
      "com.clickhouse.spark#clickhouse-spark-runtime-3.4_2.12 added as a dependency\n",
      "com.clickhouse#clickhouse-client added as a dependency\n",
      "com.clickhouse#clickhouse-http-client added as a dependency\n",
      "org.apache.httpcomponents.client5#httpclient5 added as a dependency\n",
      ":: resolving dependencies :: org.apache.spark#spark-submit-parent-acccd4cf-af47-4b2b-ab77-d0a38fa37cf1;1.0\n",
      "\tconfs: [default]\n",
      "\tfound com.clickhouse.spark#clickhouse-spark-runtime-3.4_2.12;0.8.0 in central\n",
      "\tfound com.clickhouse#clickhouse-client;0.7.0 in central\n",
      "\tfound com.clickhouse#clickhouse-data;0.7.0 in central\n",
      "\tfound com.clickhouse#clickhouse-http-client;0.7.0 in central\n",
      "\tfound org.apache.httpcomponents.client5#httpclient5;5.2.1 in central\n",
      "\tfound org.apache.httpcomponents.core5#httpcore5;5.2 in central\n",
      "\tfound org.apache.httpcomponents.core5#httpcore5-h2;5.2 in central\n",
      "\tfound org.slf4j#slf4j-api;1.7.36 in central\n",
      "downloading https://repo1.maven.org/maven2/com/clickhouse/spark/clickhouse-spark-runtime-3.4_2.12/0.8.0/clickhouse-spark-runtime-3.4_2.12-0.8.0.jar ...\n",
      "\t[SUCCESSFUL ] com.clickhouse.spark#clickhouse-spark-runtime-3.4_2.12;0.8.0!clickhouse-spark-runtime-3.4_2.12.jar (308ms)\n",
      "downloading https://repo1.maven.org/maven2/com/clickhouse/clickhouse-client/0.7.0/clickhouse-client-0.7.0.jar ...\n",
      "\t[SUCCESSFUL ] com.clickhouse#clickhouse-client;0.7.0!clickhouse-client.jar (154ms)\n",
      "downloading https://repo1.maven.org/maven2/com/clickhouse/clickhouse-http-client/0.7.0/clickhouse-http-client-0.7.0.jar ...\n",
      "\t[SUCCESSFUL ] com.clickhouse#clickhouse-http-client;0.7.0!clickhouse-http-client.jar (109ms)\n",
      "downloading https://repo1.maven.org/maven2/org/apache/httpcomponents/client5/httpclient5/5.2.1/httpclient5-5.2.1.jar ...\n",
      "\t[SUCCESSFUL ] org.apache.httpcomponents.client5#httpclient5;5.2.1!httpclient5.jar (209ms)\n",
      "downloading https://repo1.maven.org/maven2/com/clickhouse/clickhouse-data/0.7.0/clickhouse-data-0.7.0.jar ...\n",
      "\t[SUCCESSFUL ] com.clickhouse#clickhouse-data;0.7.0!clickhouse-data.jar (147ms)\n",
      "downloading https://repo1.maven.org/maven2/org/apache/httpcomponents/core5/httpcore5/5.2/httpcore5-5.2.jar ...\n",
      "\t[SUCCESSFUL ] org.apache.httpcomponents.core5#httpcore5;5.2!httpcore5.jar (162ms)\n",
      "downloading https://repo1.maven.org/maven2/org/apache/httpcomponents/core5/httpcore5-h2/5.2/httpcore5-h2-5.2.jar ...\n",
      "\t[SUCCESSFUL ] org.apache.httpcomponents.core5#httpcore5-h2;5.2!httpcore5-h2.jar (112ms)\n",
      "downloading https://repo1.maven.org/maven2/org/slf4j/slf4j-api/1.7.36/slf4j-api-1.7.36.jar ...\n",
      "\t[SUCCESSFUL ] org.slf4j#slf4j-api;1.7.36!slf4j-api.jar (90ms)\n",
      ":: resolution report :: resolve 6000ms :: artifacts dl 1302ms\n",
      "\t:: modules in use:\n",
      "\tcom.clickhouse#clickhouse-client;0.7.0 from central in [default]\n",
      "\tcom.clickhouse#clickhouse-data;0.7.0 from central in [default]\n",
      "\tcom.clickhouse#clickhouse-http-client;0.7.0 from central in [default]\n",
      "\tcom.clickhouse.spark#clickhouse-spark-runtime-3.4_2.12;0.8.0 from central in [default]\n",
      "\torg.apache.httpcomponents.client5#httpclient5;5.2.1 from central in [default]\n",
      "\torg.apache.httpcomponents.core5#httpcore5;5.2 from central in [default]\n",
      "\torg.apache.httpcomponents.core5#httpcore5-h2;5.2 from central in [default]\n",
      "\torg.slf4j#slf4j-api;1.7.36 from central in [default]\n",
      "\t---------------------------------------------------------------------\n",
      "\t|                  |            modules            ||   artifacts   |\n",
      "\t|       conf       | number| search|dwnlded|evicted|| number|dwnlded|\n",
      "\t---------------------------------------------------------------------\n",
      "\t|      default     |   8   |   8   |   8   |   0   ||   8   |   8   |\n",
      "\t---------------------------------------------------------------------\n",
      ":: retrieving :: org.apache.spark#spark-submit-parent-acccd4cf-af47-4b2b-ab77-d0a38fa37cf1\n",
      "\tconfs: [default]\n",
      "\t8 artifacts copied, 0 already retrieved (4062kB/8ms)\n",
      "25/10/15 16:58:46 WARN NativeCodeLoader: Unable to load native-hadoop library for your platform... using builtin-java classes where applicable\n",
      "Setting default log level to \"WARN\".\n",
      "To adjust logging level use sc.setLogLevel(newLevel). For SparkR, use setLogLevel(newLevel).\n"
     ]
    }
   ],
   "source": [
    "from pyspark.sql import SparkSession\n",
    "\n",
    "spark = (\n",
    "    SparkSession.builder\n",
    "    .appName(\"from_hdfs_to_clickhouse\")\n",
    "    .master(\"spark://spark-master:7077\")\n",
    "    .config(\n",
    "        \"spark.jars.packages\",\n",
    "        \",\".join([\n",
    "            # clickhouse drivers\n",
    "            \"com.clickhouse.spark:clickhouse-spark-runtime-3.4_2.12:0.8.0\",\n",
    "            \"com.clickhouse:clickhouse-client:0.7.0\",\n",
    "            \"com.clickhouse:clickhouse-http-client:0.7.0\",\n",
    "            \"org.apache.httpcomponents.client5:httpclient5:5.2.1\",\n",
    "        ])\n",
    "    )\n",
    "    # clickhouse catalog conf\n",
    "    .config(\"spark.sql.catalog.clickhouse\", \"com.clickhouse.spark.ClickHouseCatalog\")\n",
    "    .config(\"spark.sql.catalog.clickhouse.host\", \"clickhouse-server\")\n",
    "    .config(\"spark.sql.catalog.clickhouse.protocol\", \"http\")\n",
    "    .config(\"spark.sql.catalog.clickhouse.http_port\", \"8123\")\n",
    "    .config(\"spark.sql.catalog.clickhouse.user\", \"default\")\n",
    "    .config(\"spark.sql.catalog.clickhouse.password\", \"1234qwe\")\n",
    "    .config(\"spark.sql.catalog.clickhouse.database\", \"default\")\n",
    "    .config(\"spark.clickhouse.write.format\", \"json\")\n",
    "    .getOrCreate()\n",
    ")"
   ]
  },
  {
   "cell_type": "code",
   "execution_count": 2,
   "id": "8eda7dd6-9d33-4d29-90d4-9842073a1314",
   "metadata": {},
   "outputs": [
    {
     "name": "stderr",
     "output_type": "stream",
     "text": [
      "                                                                                \r"
     ]
    },
    {
     "name": "stdout",
     "output_type": "stream",
     "text": [
      "+---+--------------------+-------------+-----+---+\n",
      "|_c0|                name|         city|state| id|\n",
      "+---+--------------------+-------------+-----+---+\n",
      "|  0|  NorthGate Brewing |  Minneapolis|   MN|  0|\n",
      "|  1|Against the Grain...|   Louisville|   KY|  1|\n",
      "|  2|Jack's Abby Craft...|   Framingham|   MA|  2|\n",
      "|  3|Mike Hess Brewing...|    San Diego|   CA|  3|\n",
      "|  4|Fort Point Beer C...|San Francisco|   CA|  4|\n",
      "|  5|COAST Brewing Com...|   Charleston|   SC|  5|\n",
      "|  6|Great Divide Brew...|       Denver|   CO|  6|\n",
      "|  7|    Tapistry Brewing|     Bridgman|   MI|  7|\n",
      "|  8|    Big Lake Brewing|      Holland|   MI|  8|\n",
      "|  9|The Mitten Brewin...| Grand Rapids|   MI|  9|\n",
      "| 10|      Brewery Vivant| Grand Rapids|   MI| 10|\n",
      "| 11|    Petoskey Brewing|     Petoskey|   MI| 11|\n",
      "| 12|  Blackrocks Brewery|    Marquette|   MI| 12|\n",
      "| 13|Perrin Brewing Co...|Comstock Park|   MI| 13|\n",
      "| 14|Witch's Hat Brewi...|   South Lyon|   MI| 14|\n",
      "| 15|Founders Brewing ...| Grand Rapids|   MI| 15|\n",
      "| 16|   Flat 12 Bierwerks| Indianapolis|   IN| 16|\n",
      "| 17|Tin Man Brewing C...|   Evansville|   IN| 17|\n",
      "| 18|Black Acre Brewin...| Indianapolis|   IN| 18|\n",
      "| 19|   Brew Link Brewing|   Plainfield|   IN| 19|\n",
      "+---+--------------------+-------------+-----+---+\n",
      "only showing top 20 rows\n",
      "\n"
     ]
    }
   ],
   "source": [
    "df = spark.read.csv(\"hdfs://namenode:9000/data/openbeer/breweries/breweries.csv\", header=True, inferSchema=True)\n",
    "df.show()"
   ]
  },
  {
   "cell_type": "code",
   "execution_count": 3,
   "id": "d6981b29-84b9-4b1e-8b7c-f43fffeea52d",
   "metadata": {},
   "outputs": [
    {
     "data": {
      "text/plain": [
       "DataFrame[]"
      ]
     },
     "execution_count": 3,
     "metadata": {},
     "output_type": "execute_result"
    }
   ],
   "source": [
    "spark.sql(\"\"\"\n",
    "CREATE TABLE IF NOT EXISTS clickhouse.default.test_table (\n",
    "    id INT NOT NULL,\n",
    "    name STRING,\n",
    "    city STRING\n",
    ")\n",
    "USING clickhouse\n",
    "TBLPROPERTIES (\n",
    "    'engine'='MergeTree()',\n",
    "    'order_by'='id'\n",
    ")\n",
    "\"\"\")"
   ]
  },
  {
   "cell_type": "code",
   "execution_count": 4,
   "id": "f7bae3ab-fdab-4c7d-86b9-6fd7d93a1a14",
   "metadata": {},
   "outputs": [
    {
     "name": "stderr",
     "output_type": "stream",
     "text": [
      "                                                                                \r"
     ]
    }
   ],
   "source": [
    "df.writeTo(\"clickhouse.default.test_table\").append()"
   ]
  },
  {
   "cell_type": "code",
   "execution_count": 5,
   "id": "902c8869-c5f1-4dce-8e0c-329c9e529934",
   "metadata": {},
   "outputs": [
    {
     "name": "stdout",
     "output_type": "stream",
     "text": [
      "+---+--------------------+-------------+\n",
      "| id|                name|         city|\n",
      "+---+--------------------+-------------+\n",
      "|  0|  NorthGate Brewing |  Minneapolis|\n",
      "|  1|Against the Grain...|   Louisville|\n",
      "|  2|Jack's Abby Craft...|   Framingham|\n",
      "|  3|Mike Hess Brewing...|    San Diego|\n",
      "|  4|Fort Point Beer C...|San Francisco|\n",
      "|  5|COAST Brewing Com...|   Charleston|\n",
      "|  6|Great Divide Brew...|       Denver|\n",
      "|  7|    Tapistry Brewing|     Bridgman|\n",
      "|  8|    Big Lake Brewing|      Holland|\n",
      "|  9|The Mitten Brewin...| Grand Rapids|\n",
      "| 10|      Brewery Vivant| Grand Rapids|\n",
      "| 11|    Petoskey Brewing|     Petoskey|\n",
      "| 12|  Blackrocks Brewery|    Marquette|\n",
      "| 13|Perrin Brewing Co...|Comstock Park|\n",
      "| 14|Witch's Hat Brewi...|   South Lyon|\n",
      "| 15|Founders Brewing ...| Grand Rapids|\n",
      "| 16|   Flat 12 Bierwerks| Indianapolis|\n",
      "| 17|Tin Man Brewing C...|   Evansville|\n",
      "| 18|Black Acre Brewin...| Indianapolis|\n",
      "| 19|   Brew Link Brewing|   Plainfield|\n",
      "+---+--------------------+-------------+\n",
      "only showing top 20 rows\n",
      "\n"
     ]
    }
   ],
   "source": [
    "df = spark.sql(\"select * from clickhouse.default.test_table\")\n",
    "df.show()"
   ]
  },
  {
   "cell_type": "code",
   "execution_count": null,
   "id": "e6e04a3b-9201-413d-9601-21cb0a3ebb29",
   "metadata": {},
   "outputs": [],
   "source": []
  }
 ],
 "metadata": {
  "kernelspec": {
   "display_name": "Python 3 (ipykernel)",
   "language": "python",
   "name": "python3"
  },
  "language_info": {
   "codemirror_mode": {
    "name": "ipython",
    "version": 3
   },
   "file_extension": ".py",
   "mimetype": "text/x-python",
   "name": "python",
   "nbconvert_exporter": "python",
   "pygments_lexer": "ipython3",
   "version": "3.11.6"
  }
 },
 "nbformat": 4,
 "nbformat_minor": 5
}
