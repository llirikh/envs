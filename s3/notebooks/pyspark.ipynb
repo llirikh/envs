{
 "cells": [
  {
   "cell_type": "code",
   "execution_count": 1,
   "id": "eaac5892-af3d-4cdc-8434-e37e8fa73b34",
   "metadata": {},
   "outputs": [
    {
     "name": "stdout",
     "output_type": "stream",
     "text": [
      ":: loading settings :: url = jar:file:/opt/conda/lib/python3.11/site-packages/pyspark/jars/ivy-2.5.1.jar!/org/apache/ivy/core/settings/ivysettings.xml\n"
     ]
    },
    {
     "name": "stderr",
     "output_type": "stream",
     "text": [
      "Ivy Default Cache set to: /home/jovyan/.ivy2/cache\n",
      "The jars for the packages stored in: /home/jovyan/.ivy2/jars\n",
      "org.apache.hadoop#hadoop-aws added as a dependency\n",
      "com.amazonaws#aws-java-sdk-bundle added as a dependency\n",
      ":: resolving dependencies :: org.apache.spark#spark-submit-parent-f6141496-137a-4b44-91be-71b9f2f091e1;1.0\n",
      "\tconfs: [default]\n",
      "\tfound org.apache.hadoop#hadoop-aws;3.2.2 in central\n",
      "\tfound com.amazonaws#aws-java-sdk-bundle;1.11.888 in central\n",
      "downloading https://repo1.maven.org/maven2/org/apache/hadoop/hadoop-aws/3.2.2/hadoop-aws-3.2.2.jar ...\n",
      "\t[SUCCESSFUL ] org.apache.hadoop#hadoop-aws;3.2.2!hadoop-aws.jar (228ms)\n",
      "downloading https://repo1.maven.org/maven2/com/amazonaws/aws-java-sdk-bundle/1.11.888/aws-java-sdk-bundle-1.11.888.jar ...\n",
      "\t[SUCCESSFUL ] com.amazonaws#aws-java-sdk-bundle;1.11.888!aws-java-sdk-bundle.jar (18071ms)\n",
      ":: resolution report :: resolve 3627ms :: artifacts dl 18302ms\n",
      "\t:: modules in use:\n",
      "\tcom.amazonaws#aws-java-sdk-bundle;1.11.888 from central in [default]\n",
      "\torg.apache.hadoop#hadoop-aws;3.2.2 from central in [default]\n",
      "\t:: evicted modules:\n",
      "\tcom.amazonaws#aws-java-sdk-bundle;1.11.563 by [com.amazonaws#aws-java-sdk-bundle;1.11.888] in [default]\n",
      "\t---------------------------------------------------------------------\n",
      "\t|                  |            modules            ||   artifacts   |\n",
      "\t|       conf       | number| search|dwnlded|evicted|| number|dwnlded|\n",
      "\t---------------------------------------------------------------------\n",
      "\t|      default     |   3   |   2   |   2   |   1   ||   2   |   2   |\n",
      "\t---------------------------------------------------------------------\n",
      ":: retrieving :: org.apache.spark#spark-submit-parent-f6141496-137a-4b44-91be-71b9f2f091e1\n",
      "\tconfs: [default]\n",
      "\t2 artifacts copied, 0 already retrieved (185437kB/228ms)\n",
      "25/10/16 14:15:17 WARN NativeCodeLoader: Unable to load native-hadoop library for your platform... using builtin-java classes where applicable\n",
      "Setting default log level to \"WARN\".\n",
      "To adjust logging level use sc.setLogLevel(newLevel). For SparkR, use setLogLevel(newLevel).\n"
     ]
    }
   ],
   "source": [
    "from pyspark.sql import SparkSession\n",
    "\n",
    "spark = SparkSession.builder \\\n",
    "    .master(\"spark://spark-master:7077\") \\\n",
    "    .appName(\"test\") \\\n",
    "    .config(\"spark.sql.adaptive.enabled\", False) \\\n",
    "    .config(\"spark.executor.memory\", \"450M\") \\\n",
    "    .config(\"spark.driver.memory\", \"450M\") \\\n",
    "    .config(\"spark.sql.autoBroadcastJoinThreshold\", -1) \\\n",
    "    .config(\"spark.sql.sources.bucketing.enabled\", True) \\\n",
    "    .config(\"spark.jars.packages\", \"org.apache.hadoop:hadoop-aws:3.2.2,com.amazonaws:aws-java-sdk-bundle:1.11.888\") \\\n",
    "    .config(\"spark.hadoop.fs.s3a.impl\", \"org.apache.hadoop.fs.s3a.S3AFileSystem\") \\\n",
    "    .config('spark.hadoop.fs.s3a.aws.credentials.provider', 'org.apache.hadoop.fs.s3a.SimpleAWSCredentialsProvider') \\\n",
    "    .config(\"spark.hadoop.fs.s3a.path.style.access\", \"true\") \\\n",
    "    .config(\"spark.hadoop.fs.s3a.access.key\", \"minio\") \\\n",
    "    .config(\"spark.hadoop.fs.s3a.secret.key\", \"minio-password\") \\\n",
    "    .config(\"spark.hadoop.fs.s3a.endpoint\", \"http://minio:9000\") \\\n",
    "    .getOrCreate()\n",
    "\n",
    "\n",
    "    "
   ]
  },
  {
   "cell_type": "code",
   "execution_count": 2,
   "id": "bdf7314e-29da-44cd-bd61-fdb5ef5533d0",
   "metadata": {},
   "outputs": [
    {
     "name": "stderr",
     "output_type": "stream",
     "text": [
      "25/10/16 14:15:26 WARN MetricsConfig: Cannot locate configuration: tried hadoop-metrics2-s3a-file-system.properties,hadoop-metrics2.properties\n",
      "                                                                                \r"
     ]
    },
    {
     "name": "stdout",
     "output_type": "stream",
     "text": [
      "+--------------------+---------------+--------------------+--------------------+---------+--------+\n",
      "|                name|    phoneNumber|               email|             address|userAgent|hexcolor|\n",
      "+--------------------+---------------+--------------------+--------------------+---------+--------+\n",
      "|       Rosetta Upton|+1-825-805-5211|brandi.hoeger@run...|50555 Turcotte Lo...|     NULL|    NULL|\n",
      "|         Jacobsville|      GA 27950\"|Mozilla/5.0 (X11;...|             #5b6a4a|     NULL|    NULL|\n",
      "|      Laurence Berge|   221-798-1024|sauer.bryon@hotma...|    95663 Alan Ville|     NULL|    NULL|\n",
      "|          Grimesland| NY 08256-4245\"|Mozilla/5.0 (Wind...|             #39d25c|     NULL|    NULL|\n",
      "|         Nelle Lynch| (951) 469-9044|hector.kautzer@tr...|31427 Elliott Pra...|     NULL|    NULL|\n",
      "|          Jordantown|      NE 40009\"|Mozilla/5.0 (comp...|             #0ad343|     NULL|    NULL|\n",
      "| Dr. Zita Zemlak PhD|   +19505386711| ewald04@hotmail.com|      483 Kaden Park|     NULL|    NULL|\n",
      "|     Lake Cordiaberg| AL 06969-0337\"|Mozilla/5.0 (comp...|             #b941e5|     NULL|    NULL|\n",
      "|       Alena Flatley| (574) 859-9975|morissette.christ...|50468 Kshlerin Ca...|     NULL|    NULL|\n",
      "|   New Adalbertoview| OH 98966-2088\"|Mozilla/5.0 (comp...|             #cface4|     NULL|    NULL|\n",
      "|Dr. Newell Hamill...|   245.715.7296|hyman.goodwin@pag...|     7936 Bud Radial|     NULL|    NULL|\n",
      "|        Schinnerport| ID 84110-7835\"|Mozilla/5.0 (Wind...|             #da6c29|     NULL|    NULL|\n",
      "|        Kallie Zieme|+1-994-222-3714|haag.isai@rutherf...|33825 Leann Land ...|     NULL|    NULL|\n",
      "|       East Janafurt|      NV 40375\"|Mozilla/5.0 (Maci...|             #dc62fc|     NULL|    NULL|\n",
      "|    Andreane Lang MD|   864.396.2261|  dereck03@gmail.com|    90969 Hills Wall|     NULL|    NULL|\n",
      "|           Arjunfurt|      UT 36680\"|Mozilla/5.0 (Wind...|             #f646bd|     NULL|    NULL|\n",
      "|        Monte Murphy| (810) 416-4041|carolina47@hotmai...|7271 Quitzon Viad...|     NULL|    NULL|\n",
      "|    Gutkowskiborough|      IN 46234\"|Mozilla/5.0 (Wind...|             #c4d123|     NULL|    NULL|\n",
      "|Mr. Waino McDermo...|   583.759.7830| ybednar@windler.com| 18746 Lehner Avenue|     NULL|    NULL|\n",
      "|      Darrickborough| KY 84869-4419\"|Mozilla/5.0 (comp...|             #cea05a|     NULL|    NULL|\n",
      "+--------------------+---------------+--------------------+--------------------+---------+--------+\n",
      "only showing top 20 rows\n",
      "\n"
     ]
    }
   ],
   "source": [
    "df = spark.read.option(\"header\", \"true\").option(\"inferSchema\", \"true\").csv(\"s3a://my-bucket/example_new.csv\")\n",
    "\n",
    "df.show()"
   ]
  },
  {
   "cell_type": "code",
   "execution_count": 3,
   "id": "6532e1af-0ad5-40a1-932f-4d233469e68c",
   "metadata": {},
   "outputs": [
    {
     "name": "stdout",
     "output_type": "stream",
     "text": [
      "+-------+---+-------+\n",
      "|   name|age|   city|\n",
      "+-------+---+-------+\n",
      "|  Alice| 25|     NY|\n",
      "|    Bob| 30|     LA|\n",
      "|Charlie| 35|Chicago|\n",
      "+-------+---+-------+\n",
      "\n"
     ]
    }
   ],
   "source": [
    "df = spark.read.option(\"header\", \"true\").option(\"inferSchema\", \"true\").csv(\"s3a://my-bucket/example.csv\")\n",
    "\n",
    "df.show()"
   ]
  },
  {
   "cell_type": "code",
   "execution_count": 4,
   "id": "4c651754-9c5c-4a8d-b044-e37573ce7e81",
   "metadata": {},
   "outputs": [],
   "source": [
    "spark.stop()"
   ]
  },
  {
   "cell_type": "code",
   "execution_count": null,
   "id": "972258e3-3dd3-4f1a-ae91-b6ac400e1ab5",
   "metadata": {},
   "outputs": [],
   "source": []
  }
 ],
 "metadata": {
  "kernelspec": {
   "display_name": "Python 3 (ipykernel)",
   "language": "python",
   "name": "python3"
  },
  "language_info": {
   "codemirror_mode": {
    "name": "ipython",
    "version": 3
   },
   "file_extension": ".py",
   "mimetype": "text/x-python",
   "name": "python",
   "nbconvert_exporter": "python",
   "pygments_lexer": "ipython3",
   "version": "3.11.6"
  }
 },
 "nbformat": 4,
 "nbformat_minor": 5
}
