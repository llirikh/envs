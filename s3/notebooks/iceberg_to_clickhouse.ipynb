{
 "cells": [
  {
   "cell_type": "code",
   "execution_count": 1,
   "id": "ac8165fa-9446-4892-8772-7ba33e3dd5c5",
   "metadata": {},
   "outputs": [
    {
     "name": "stdout",
     "output_type": "stream",
     "text": [
      ":: loading settings :: url = jar:file:/opt/conda/lib/python3.8/site-packages/pyspark/jars/ivy-2.5.1.jar!/org/apache/ivy/core/settings/ivysettings.xml\n"
     ]
    },
    {
     "name": "stderr",
     "output_type": "stream",
     "text": [
      "Ivy Default Cache set to: /home/jovyan/.ivy2/cache\n",
      "The jars for the packages stored in: /home/jovyan/.ivy2/jars\n",
      "software.amazon.awssdk#s3 added as a dependency\n",
      "software.amazon.awssdk#sts added as a dependency\n",
      "software.amazon.awssdk#auth added as a dependency\n",
      "software.amazon.awssdk#aws-core added as a dependency\n",
      "software.amazon.awssdk#kms added as a dependency\n",
      "org.apache.iceberg#iceberg-spark-runtime-3.5_2.12 added as a dependency\n",
      "com.clickhouse.spark#clickhouse-spark-runtime-3.4_2.12 added as a dependency\n",
      "com.clickhouse#clickhouse-client added as a dependency\n",
      "com.clickhouse#clickhouse-http-client added as a dependency\n",
      "org.apache.httpcomponents.client5#httpclient5 added as a dependency\n",
      ":: resolving dependencies :: org.apache.spark#spark-submit-parent-8a94b912-ad58-42c1-b9b6-6db28e53413e;1.0\n",
      "\tconfs: [default]\n",
      "\tfound software.amazon.awssdk#s3;2.25.28 in central\n",
      "\tfound software.amazon.awssdk#aws-xml-protocol;2.25.28 in central\n",
      "\tfound software.amazon.awssdk#aws-query-protocol;2.25.28 in central\n",
      "\tfound software.amazon.awssdk#protocol-core;2.25.28 in central\n",
      "\tfound software.amazon.awssdk#sdk-core;2.25.28 in central\n",
      "\tfound software.amazon.awssdk#annotations;2.25.28 in central\n",
      "\tfound software.amazon.awssdk#http-client-spi;2.25.28 in central\n",
      "\tfound software.amazon.awssdk#utils;2.25.28 in central\n",
      "\tfound org.reactivestreams#reactive-streams;1.0.4 in central\n",
      "\tfound org.slf4j#slf4j-api;1.7.30 in central\n",
      "\tfound software.amazon.awssdk#metrics-spi;2.25.28 in central\n",
      "\tfound software.amazon.awssdk#endpoints-spi;2.25.28 in central\n",
      "\tfound software.amazon.awssdk#http-auth-spi;2.25.28 in central\n",
      "\tfound software.amazon.awssdk#identity-spi;2.25.28 in central\n",
      "\tfound software.amazon.awssdk#http-auth-aws;2.25.28 in central\n",
      "\tfound software.amazon.awssdk#checksums-spi;2.25.28 in central\n",
      "\tfound software.amazon.awssdk#checksums;2.25.28 in central\n",
      "\tfound software.amazon.awssdk#profiles;2.25.28 in central\n",
      "\tfound software.amazon.awssdk#aws-core;2.25.28 in central\n",
      "\tfound software.amazon.awssdk#regions;2.25.28 in central\n",
      "\tfound software.amazon.awssdk#json-utils;2.25.28 in central\n",
      "\tfound software.amazon.awssdk#third-party-jackson-core;2.25.28 in central\n",
      "\tfound software.amazon.awssdk#auth;2.25.28 in central\n",
      "\tfound software.amazon.awssdk#http-auth;2.25.28 in central\n",
      "\tfound software.amazon.eventstream#eventstream;1.0.1 in central\n",
      "\tfound software.amazon.awssdk#arns;2.25.28 in central\n",
      "\tfound software.amazon.awssdk#crt-core;2.25.28 in central\n",
      "\tfound software.amazon.awssdk#apache-client;2.25.28 in central\n",
      "\tfound org.apache.httpcomponents#httpclient;4.5.13 in central\n",
      "\tfound org.apache.httpcomponents#httpcore;4.4.13 in central\n",
      "\tfound commons-logging#commons-logging;1.2 in central\n",
      "\tfound commons-codec#commons-codec;1.15 in central\n",
      "\tfound software.amazon.awssdk#netty-nio-client;2.25.28 in central\n",
      "\tfound io.netty#netty-codec-http;4.1.108.Final in central\n",
      "\tfound io.netty#netty-common;4.1.108.Final in central\n",
      "\tfound io.netty#netty-buffer;4.1.108.Final in central\n",
      "\tfound io.netty#netty-transport;4.1.108.Final in central\n",
      "\tfound io.netty#netty-resolver;4.1.108.Final in central\n",
      "\tfound io.netty#netty-codec;4.1.108.Final in central\n",
      "\tfound io.netty#netty-handler;4.1.108.Final in central\n",
      "\tfound io.netty#netty-transport-native-unix-common;4.1.108.Final in central\n",
      "\tfound io.netty#netty-codec-http2;4.1.108.Final in central\n",
      "\tfound io.netty#netty-transport-classes-epoll;4.1.108.Final in central\n",
      "\tfound software.amazon.awssdk#sts;2.25.28 in central\n",
      "\tfound software.amazon.awssdk#kms;2.25.28 in central\n",
      "\tfound software.amazon.awssdk#aws-json-protocol;2.25.28 in central\n",
      "\tfound org.apache.iceberg#iceberg-spark-runtime-3.5_2.12;1.10.0 in central\n",
      "\tfound com.clickhouse.spark#clickhouse-spark-runtime-3.4_2.12;0.8.0 in central\n",
      "\tfound com.clickhouse#clickhouse-client;0.7.0 in central\n",
      "\tfound com.clickhouse#clickhouse-data;0.7.0 in central\n",
      "\tfound com.clickhouse#clickhouse-http-client;0.7.0 in central\n",
      "\tfound org.apache.httpcomponents.client5#httpclient5;5.2.1 in central\n",
      "\tfound org.apache.httpcomponents.core5#httpcore5;5.2 in central\n",
      "\tfound org.apache.httpcomponents.core5#httpcore5-h2;5.2 in central\n",
      "\tfound org.slf4j#slf4j-api;1.7.36 in central\n",
      ":: resolution report :: resolve 1237ms :: artifacts dl 24ms\n",
      "\t:: modules in use:\n",
      "\tcom.clickhouse#clickhouse-client;0.7.0 from central in [default]\n",
      "\tcom.clickhouse#clickhouse-data;0.7.0 from central in [default]\n",
      "\tcom.clickhouse#clickhouse-http-client;0.7.0 from central in [default]\n",
      "\tcom.clickhouse.spark#clickhouse-spark-runtime-3.4_2.12;0.8.0 from central in [default]\n",
      "\tcommons-codec#commons-codec;1.15 from central in [default]\n",
      "\tcommons-logging#commons-logging;1.2 from central in [default]\n",
      "\tio.netty#netty-buffer;4.1.108.Final from central in [default]\n",
      "\tio.netty#netty-codec;4.1.108.Final from central in [default]\n",
      "\tio.netty#netty-codec-http;4.1.108.Final from central in [default]\n",
      "\tio.netty#netty-codec-http2;4.1.108.Final from central in [default]\n",
      "\tio.netty#netty-common;4.1.108.Final from central in [default]\n",
      "\tio.netty#netty-handler;4.1.108.Final from central in [default]\n",
      "\tio.netty#netty-resolver;4.1.108.Final from central in [default]\n",
      "\tio.netty#netty-transport;4.1.108.Final from central in [default]\n",
      "\tio.netty#netty-transport-classes-epoll;4.1.108.Final from central in [default]\n",
      "\tio.netty#netty-transport-native-unix-common;4.1.108.Final from central in [default]\n",
      "\torg.apache.httpcomponents#httpclient;4.5.13 from central in [default]\n",
      "\torg.apache.httpcomponents#httpcore;4.4.13 from central in [default]\n",
      "\torg.apache.httpcomponents.client5#httpclient5;5.2.1 from central in [default]\n",
      "\torg.apache.httpcomponents.core5#httpcore5;5.2 from central in [default]\n",
      "\torg.apache.httpcomponents.core5#httpcore5-h2;5.2 from central in [default]\n",
      "\torg.apache.iceberg#iceberg-spark-runtime-3.5_2.12;1.10.0 from central in [default]\n",
      "\torg.reactivestreams#reactive-streams;1.0.4 from central in [default]\n",
      "\torg.slf4j#slf4j-api;1.7.36 from central in [default]\n",
      "\tsoftware.amazon.awssdk#annotations;2.25.28 from central in [default]\n",
      "\tsoftware.amazon.awssdk#apache-client;2.25.28 from central in [default]\n",
      "\tsoftware.amazon.awssdk#arns;2.25.28 from central in [default]\n",
      "\tsoftware.amazon.awssdk#auth;2.25.28 from central in [default]\n",
      "\tsoftware.amazon.awssdk#aws-core;2.25.28 from central in [default]\n",
      "\tsoftware.amazon.awssdk#aws-json-protocol;2.25.28 from central in [default]\n",
      "\tsoftware.amazon.awssdk#aws-query-protocol;2.25.28 from central in [default]\n",
      "\tsoftware.amazon.awssdk#aws-xml-protocol;2.25.28 from central in [default]\n",
      "\tsoftware.amazon.awssdk#checksums;2.25.28 from central in [default]\n",
      "\tsoftware.amazon.awssdk#checksums-spi;2.25.28 from central in [default]\n",
      "\tsoftware.amazon.awssdk#crt-core;2.25.28 from central in [default]\n",
      "\tsoftware.amazon.awssdk#endpoints-spi;2.25.28 from central in [default]\n",
      "\tsoftware.amazon.awssdk#http-auth;2.25.28 from central in [default]\n",
      "\tsoftware.amazon.awssdk#http-auth-aws;2.25.28 from central in [default]\n",
      "\tsoftware.amazon.awssdk#http-auth-spi;2.25.28 from central in [default]\n",
      "\tsoftware.amazon.awssdk#http-client-spi;2.25.28 from central in [default]\n",
      "\tsoftware.amazon.awssdk#identity-spi;2.25.28 from central in [default]\n",
      "\tsoftware.amazon.awssdk#json-utils;2.25.28 from central in [default]\n",
      "\tsoftware.amazon.awssdk#kms;2.25.28 from central in [default]\n",
      "\tsoftware.amazon.awssdk#metrics-spi;2.25.28 from central in [default]\n",
      "\tsoftware.amazon.awssdk#netty-nio-client;2.25.28 from central in [default]\n",
      "\tsoftware.amazon.awssdk#profiles;2.25.28 from central in [default]\n",
      "\tsoftware.amazon.awssdk#protocol-core;2.25.28 from central in [default]\n",
      "\tsoftware.amazon.awssdk#regions;2.25.28 from central in [default]\n",
      "\tsoftware.amazon.awssdk#s3;2.25.28 from central in [default]\n",
      "\tsoftware.amazon.awssdk#sdk-core;2.25.28 from central in [default]\n",
      "\tsoftware.amazon.awssdk#sts;2.25.28 from central in [default]\n",
      "\tsoftware.amazon.awssdk#third-party-jackson-core;2.25.28 from central in [default]\n",
      "\tsoftware.amazon.awssdk#utils;2.25.28 from central in [default]\n",
      "\tsoftware.amazon.eventstream#eventstream;1.0.1 from central in [default]\n",
      "\t:: evicted modules:\n",
      "\torg.slf4j#slf4j-api;1.7.30 by [org.slf4j#slf4j-api;1.7.36] in [default]\n",
      "\t---------------------------------------------------------------------\n",
      "\t|                  |            modules            ||   artifacts   |\n",
      "\t|       conf       | number| search|dwnlded|evicted|| number|dwnlded|\n",
      "\t---------------------------------------------------------------------\n",
      "\t|      default     |   55  |   0   |   0   |   1   ||   54  |   0   |\n",
      "\t---------------------------------------------------------------------\n",
      ":: retrieving :: org.apache.spark#spark-submit-parent-8a94b912-ad58-42c1-b9b6-6db28e53413e\n",
      "\tconfs: [default]\n",
      "\t0 artifacts copied, 54 already retrieved (0kB/15ms)\n",
      "25/10/20 00:32:10 WARN NativeCodeLoader: Unable to load native-hadoop library for your platform... using builtin-java classes where applicable\n",
      "Setting default log level to \"WARN\".\n",
      "To adjust logging level use sc.setLogLevel(newLevel). For SparkR, use setLogLevel(newLevel).\n"
     ]
    }
   ],
   "source": [
    "from pyspark.sql import SparkSession\n",
    "\n",
    "spark = (\n",
    "    SparkSession.builder\n",
    "    .appName(\"iceberg_to_clickhouse\")\n",
    "    .master(\"spark://spark-master:7077\")\n",
    "    .config(\n",
    "        \"spark.jars.packages\",\n",
    "        \",\".join([\n",
    "            # s3 (AWS SDK v2)\n",
    "            \"software.amazon.awssdk:s3:2.25.28\",\n",
    "            \"software.amazon.awssdk:sts:2.25.28\",\n",
    "            \"software.amazon.awssdk:auth:2.25.28\",\n",
    "            \"software.amazon.awssdk:aws-core:2.25.28\",\n",
    "            \"software.amazon.awssdk:kms:2.25.28\",\n",
    "            # iceberg packages\n",
    "            \"org.apache.iceberg:iceberg-spark-runtime-3.5_2.12:1.10.0\",\n",
    "            # clcikhouse packages\n",
    "            \"com.clickhouse.spark:clickhouse-spark-runtime-3.4_2.12:0.8.0\",\n",
    "            \"com.clickhouse:clickhouse-client:0.7.0\",\n",
    "            \"com.clickhouse:clickhouse-http-client:0.7.0\",\n",
    "            \"org.apache.httpcomponents.client5:httpclient5:5.2.1\",\n",
    "        ])\n",
    "    )\n",
    "    # iceberg configs\n",
    "    .config(\"spark.sql.extensions\", \"org.apache.iceberg.spark.extensions.IcebergSparkSessionExtensions\")\n",
    "    .config(\"spark.sql.catalog.iceberg\", \"org.apache.iceberg.spark.SparkCatalog\")\n",
    "    .config(\"spark.sql.catalog.iceberg.catalog-impl\", \"org.apache.iceberg.rest.RESTCatalog\")\n",
    "    .config(\"spark.sql.catalog.iceberg.uri\", \"http://rest:8181\")\n",
    "    .config(\"spark.sql.catalog.iceberg.io-impl\", \"org.apache.iceberg.aws.s3.S3FileIO\")\n",
    "    .config(\"spark.sql.catalog.iceberg.s3.endpoint\", \"http://minio:9000\")\n",
    "    .config(\"spark.sql.catalog.iceberg.s3.path-style-access\", \"true\")\n",
    "    .config(\"spark.sql.catalog.iceberg.s3.access-key-id\", \"minio\")\n",
    "    .config(\"spark.sql.catalog.iceberg.s3.secret-access-key\", \"minio-password\")\n",
    "    # clickhouse configs\n",
    "    .config(\"spark.sql.catalog.clickhouse\", \"com.clickhouse.spark.ClickHouseCatalog\")\n",
    "    .config(\"spark.sql.catalog.clickhouse.host\", \"clickhouse-server\")\n",
    "    .config(\"spark.sql.catalog.clickhouse.protocol\", \"http\")\n",
    "    .config(\"spark.sql.catalog.clickhouse.http_port\", \"8123\")\n",
    "    .config(\"spark.sql.catalog.clickhouse.user\", \"default\")\n",
    "    .config(\"spark.sql.catalog.clickhouse.password\", \"1234qwe\")\n",
    "    .config(\"spark.sql.catalog.clickhouse.database\", \"default\")\n",
    "    .config(\"spark.clickhouse.write.format\", \"json\")\n",
    "    \n",
    "    .getOrCreate()\n",
    ")"
   ]
  },
  {
   "cell_type": "markdown",
   "id": "e637c632-537f-406d-9fd9-fe586e53f7d6",
   "metadata": {},
   "source": [
    "## Запись поверх iceberg"
   ]
  },
  {
   "cell_type": "code",
   "execution_count": 2,
   "id": "1bb47210-48fa-48a8-9f40-b76274bd5018",
   "metadata": {},
   "outputs": [
    {
     "name": "stderr",
     "output_type": "stream",
     "text": [
      "                                                                                \r"
     ]
    },
    {
     "name": "stdout",
     "output_type": "stream",
     "text": [
      "+---+--------------+------+\n",
      "| id|          name| value|\n",
      "+---+--------------+------+\n",
      "|  1|test_record_11| 907.5|\n",
      "|  2|test_record_12| 57.56|\n",
      "|  3|test_record_13|968.93|\n",
      "|  4|test_record_14|774.73|\n",
      "|  5|test_record_15|818.73|\n",
      "|  6|test_record_16|499.96|\n",
      "|  7|test_record_17|936.79|\n",
      "|  8|test_record_18| 484.3|\n",
      "|  9|test_record_19|926.36|\n",
      "| 10|test_record_20|963.62|\n",
      "| 11|test_record_21|120.94|\n",
      "| 12|test_record_22| 66.36|\n",
      "| 13|test_record_23|467.74|\n",
      "| 14|test_record_24|191.62|\n",
      "| 15|test_record_25|636.19|\n",
      "| 16|test_record_26|384.38|\n",
      "| 17|test_record_27|190.62|\n",
      "| 18|test_record_28|753.24|\n",
      "| 19|test_record_29|472.41|\n",
      "| 20|test_record_30|261.72|\n",
      "+---+--------------+------+\n",
      "only showing top 20 rows\n",
      "\n"
     ]
    }
   ],
   "source": [
    "from pyspark.sql import Row\n",
    "import random\n",
    "\n",
    "offset = 10\n",
    "count = 1000\n",
    "data = [\n",
    "    Row(id=i, name=f\"test_record_{offset + i}\", value=round(random.uniform(0, 1000), 2))\n",
    "    for i in range(1, count + 1)\n",
    "]\n",
    "\n",
    "df = spark.createDataFrame(data)\n",
    "df.show()"
   ]
  },
  {
   "cell_type": "code",
   "execution_count": 3,
   "id": "2d7d0c26-632f-427a-9d98-b068e79d77e4",
   "metadata": {},
   "outputs": [
    {
     "name": "stderr",
     "output_type": "stream",
     "text": [
      "                                                                                \r"
     ]
    }
   ],
   "source": [
    "df.repartition(10).writeTo(\"iceberg.test_schema.test_table\").createOrReplace()"
   ]
  },
  {
   "cell_type": "code",
   "execution_count": 5,
   "id": "e42264c9-feb7-4cc1-bb4f-ec99c9cc14b8",
   "metadata": {},
   "outputs": [
    {
     "name": "stdout",
     "output_type": "stream",
     "text": [
      "+---+---------------+------+\n",
      "| id|           name| value|\n",
      "+---+---------------+------+\n",
      "| 40| test_record_50| 38.93|\n",
      "|463|test_record_473|278.15|\n",
      "|337|test_record_347|126.52|\n",
      "| 46| test_record_56|395.34|\n",
      "| 89| test_record_99|979.13|\n",
      "|172|test_record_182|848.57|\n",
      "|340|test_record_350| 67.37|\n",
      "|477|test_record_487|690.08|\n",
      "|398|test_record_408|837.74|\n",
      "| 25| test_record_35|310.83|\n",
      "|353|test_record_363|771.76|\n",
      "|295|test_record_305|146.51|\n",
      "|474|test_record_484|210.33|\n",
      "|450|test_record_460|490.26|\n",
      "|  2| test_record_12| 57.56|\n",
      "|323|test_record_333|742.96|\n",
      "|241|test_record_251|689.68|\n",
      "|107|test_record_117|424.88|\n",
      "|298|test_record_308|458.58|\n",
      "|297|test_record_307|534.06|\n",
      "+---+---------------+------+\n",
      "only showing top 20 rows\n",
      "\n"
     ]
    }
   ],
   "source": [
    "df_result = spark.table(\"iceberg.test_schema.test_table\")\n",
    "df_result.show()"
   ]
  },
  {
   "cell_type": "code",
   "execution_count": 6,
   "id": "54bc0fe1-7cec-49d0-9a6a-e3eb9e240fc1",
   "metadata": {},
   "outputs": [
    {
     "data": {
      "text/plain": [
       "1000"
      ]
     },
     "execution_count": 6,
     "metadata": {},
     "output_type": "execute_result"
    }
   ],
   "source": [
    "df_result.count()"
   ]
  },
  {
   "cell_type": "markdown",
   "id": "6e51359e-31d8-4bd4-a8b5-322af633b6b9",
   "metadata": {},
   "source": [
    "## Чтение из iceberg и запись в clickhouse"
   ]
  },
  {
   "cell_type": "code",
   "execution_count": 5,
   "id": "6532e1af-0ad5-40a1-932f-4d233469e68c",
   "metadata": {},
   "outputs": [
    {
     "name": "stderr",
     "output_type": "stream",
     "text": [
      "[Stage 4:>                                                          (0 + 1) / 1]\r"
     ]
    },
    {
     "name": "stdout",
     "output_type": "stream",
     "text": [
      "+---+---------------+------+\n",
      "|id |name           |value |\n",
      "+---+---------------+------+\n",
      "|40 |test_record_50 |38.93 |\n",
      "|463|test_record_473|278.15|\n",
      "|337|test_record_347|126.52|\n",
      "|46 |test_record_56 |395.34|\n",
      "|89 |test_record_99 |979.13|\n",
      "|172|test_record_182|848.57|\n",
      "|340|test_record_350|67.37 |\n",
      "|477|test_record_487|690.08|\n",
      "|398|test_record_408|837.74|\n",
      "|25 |test_record_35 |310.83|\n",
      "|353|test_record_363|771.76|\n",
      "|295|test_record_305|146.51|\n",
      "|474|test_record_484|210.33|\n",
      "|450|test_record_460|490.26|\n",
      "|2  |test_record_12 |57.56 |\n",
      "|323|test_record_333|742.96|\n",
      "|241|test_record_251|689.68|\n",
      "|107|test_record_117|424.88|\n",
      "|298|test_record_308|458.58|\n",
      "|297|test_record_307|534.06|\n",
      "+---+---------------+------+\n",
      "only showing top 20 rows\n",
      "\n",
      "root\n",
      " |-- id: long (nullable = true)\n",
      " |-- name: string (nullable = true)\n",
      " |-- value: double (nullable = true)\n",
      "\n"
     ]
    },
    {
     "name": "stderr",
     "output_type": "stream",
     "text": [
      "                                                                                \r"
     ]
    }
   ],
   "source": [
    "df = spark.table(\"iceberg.test_schema.test_table\")\n",
    "df.show(truncate=False)\n",
    "df.printSchema()"
   ]
  },
  {
   "cell_type": "code",
   "execution_count": 8,
   "id": "c72d0547-9b4d-417b-9efa-f4f280af0b56",
   "metadata": {},
   "outputs": [
    {
     "data": {
      "text/plain": [
       "DataFrame[]"
      ]
     },
     "execution_count": 8,
     "metadata": {},
     "output_type": "execute_result"
    }
   ],
   "source": [
    "spark.sql(\"\"\"\n",
    "CREATE TABLE IF NOT EXISTS clickhouse.default.test_table (\n",
    "    id INT NOT NULL,\n",
    "    name STRING,\n",
    "    value FLOAT\n",
    ")\n",
    "USING clickhouse\n",
    "TBLPROPERTIES (\n",
    "    'engine'='MergeTree()',\n",
    "    'order_by'='id'\n",
    ")\n",
    "\"\"\")"
   ]
  },
  {
   "cell_type": "code",
   "execution_count": 6,
   "id": "4b0f92a3-8a2c-42df-a008-605776774cea",
   "metadata": {},
   "outputs": [
    {
     "name": "stderr",
     "output_type": "stream",
     "text": [
      "                                                                                \r"
     ]
    }
   ],
   "source": [
    "df.repartition(10).writeTo(\"clickhouse.default.test_table\").append()"
   ]
  },
  {
   "cell_type": "code",
   "execution_count": 7,
   "id": "31b01666-a797-485c-bb97-b55553249845",
   "metadata": {},
   "outputs": [
    {
     "name": "stdout",
     "output_type": "stream",
     "text": [
      "+---+--------------+------+\n",
      "| id|          name| value|\n",
      "+---+--------------+------+\n",
      "|  1| test_record_1|787.86|\n",
      "|  1|test_record_11| 907.5|\n",
      "|  1|test_record_11| 907.5|\n",
      "|  2| test_record_2|462.91|\n",
      "|  2|test_record_12| 57.56|\n",
      "|  2|test_record_12| 57.56|\n",
      "|  3| test_record_3|534.92|\n",
      "|  3|test_record_13|968.93|\n",
      "|  3|test_record_13|968.93|\n",
      "|  4| test_record_4|932.76|\n",
      "|  4|test_record_14|774.73|\n",
      "|  4|test_record_14|774.73|\n",
      "|  5| test_record_5|282.25|\n",
      "|  5|test_record_15|818.73|\n",
      "|  5|test_record_15|818.73|\n",
      "|  6| test_record_6| 11.39|\n",
      "|  6|test_record_16|499.96|\n",
      "|  6|test_record_16|499.96|\n",
      "|  7| test_record_7|696.54|\n",
      "|  7|test_record_17|936.79|\n",
      "+---+--------------+------+\n",
      "only showing top 20 rows\n",
      "\n"
     ]
    }
   ],
   "source": [
    "df_new = spark.sql(\"select * from clickhouse.default.test_table\")\n",
    "df_new.show()"
   ]
  },
  {
   "cell_type": "code",
   "execution_count": 8,
   "id": "99da13b6-f4fa-403d-8f84-1b7158eb0b27",
   "metadata": {},
   "outputs": [
    {
     "data": {
      "text/plain": [
       "3000"
      ]
     },
     "execution_count": 8,
     "metadata": {},
     "output_type": "execute_result"
    }
   ],
   "source": [
    "df_new.count()"
   ]
  },
  {
   "cell_type": "code",
   "execution_count": 9,
   "id": "4c651754-9c5c-4a8d-b044-e37573ce7e81",
   "metadata": {},
   "outputs": [],
   "source": [
    "spark.stop()"
   ]
  },
  {
   "cell_type": "code",
   "execution_count": null,
   "id": "972258e3-3dd3-4f1a-ae91-b6ac400e1ab5",
   "metadata": {},
   "outputs": [],
   "source": []
  }
 ],
 "metadata": {
  "kernelspec": {
   "display_name": "Python 3 (ipykernel)",
   "language": "python",
   "name": "python3"
  },
  "language_info": {
   "codemirror_mode": {
    "name": "ipython",
    "version": 3
   },
   "file_extension": ".py",
   "mimetype": "text/x-python",
   "name": "python",
   "nbconvert_exporter": "python",
   "pygments_lexer": "ipython3",
   "version": "3.8.13"
  }
 },
 "nbformat": 4,
 "nbformat_minor": 5
}
