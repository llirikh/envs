{
 "cells": [
  {
   "cell_type": "code",
   "execution_count": 1,
   "id": "ac8165fa-9446-4892-8772-7ba33e3dd5c5",
   "metadata": {},
   "outputs": [
    {
     "name": "stdout",
     "output_type": "stream",
     "text": [
      ":: loading settings :: url = jar:file:/opt/conda/lib/python3.8/site-packages/pyspark/jars/ivy-2.5.1.jar!/org/apache/ivy/core/settings/ivysettings.xml\n"
     ]
    },
    {
     "name": "stderr",
     "output_type": "stream",
     "text": [
      "Ivy Default Cache set to: /home/jovyan/.ivy2/cache\n",
      "The jars for the packages stored in: /home/jovyan/.ivy2/jars\n",
      "org.apache.hadoop#hadoop-aws added as a dependency\n",
      "com.amazonaws#aws-java-sdk-bundle added as a dependency\n",
      "com.clickhouse.spark#clickhouse-spark-runtime-3.4_2.12 added as a dependency\n",
      "com.clickhouse#clickhouse-client added as a dependency\n",
      "com.clickhouse#clickhouse-http-client added as a dependency\n",
      "org.apache.httpcomponents.client5#httpclient5 added as a dependency\n",
      ":: resolving dependencies :: org.apache.spark#spark-submit-parent-8b0d9423-4783-4623-96fe-b5dedcf227c2;1.0\n",
      "\tconfs: [default]\n",
      "\tfound org.apache.hadoop#hadoop-aws;3.3.4 in central\n",
      "\tfound com.amazonaws#aws-java-sdk-bundle;1.12.262 in central\n",
      "\tfound org.wildfly.openssl#wildfly-openssl;1.0.7.Final in central\n",
      "\tfound com.clickhouse.spark#clickhouse-spark-runtime-3.4_2.12;0.8.0 in central\n",
      "\tfound com.clickhouse#clickhouse-client;0.7.0 in central\n",
      "\tfound com.clickhouse#clickhouse-data;0.7.0 in central\n",
      "\tfound com.clickhouse#clickhouse-http-client;0.7.0 in central\n",
      "\tfound org.apache.httpcomponents.client5#httpclient5;5.2.1 in central\n",
      "\tfound org.apache.httpcomponents.core5#httpcore5;5.2 in central\n",
      "\tfound org.apache.httpcomponents.core5#httpcore5-h2;5.2 in central\n",
      "\tfound org.slf4j#slf4j-api;1.7.36 in central\n",
      "downloading https://repo1.maven.org/maven2/org/apache/hadoop/hadoop-aws/3.3.4/hadoop-aws-3.3.4.jar ...\n",
      "\t[SUCCESSFUL ] org.apache.hadoop#hadoop-aws;3.3.4!hadoop-aws.jar (386ms)\n",
      "downloading https://repo1.maven.org/maven2/com/amazonaws/aws-java-sdk-bundle/1.12.262/aws-java-sdk-bundle-1.12.262.jar ...\n",
      "\t[SUCCESSFUL ] com.amazonaws#aws-java-sdk-bundle;1.12.262!aws-java-sdk-bundle.jar (25241ms)\n",
      "downloading https://repo1.maven.org/maven2/com/clickhouse/spark/clickhouse-spark-runtime-3.4_2.12/0.8.0/clickhouse-spark-runtime-3.4_2.12-0.8.0.jar ...\n",
      "\t[SUCCESSFUL ] com.clickhouse.spark#clickhouse-spark-runtime-3.4_2.12;0.8.0!clickhouse-spark-runtime-3.4_2.12.jar (345ms)\n",
      "downloading https://repo1.maven.org/maven2/com/clickhouse/clickhouse-client/0.7.0/clickhouse-client-0.7.0.jar ...\n",
      "\t[SUCCESSFUL ] com.clickhouse#clickhouse-client;0.7.0!clickhouse-client.jar (210ms)\n",
      "downloading https://repo1.maven.org/maven2/com/clickhouse/clickhouse-http-client/0.7.0/clickhouse-http-client-0.7.0.jar ...\n",
      "\t[SUCCESSFUL ] com.clickhouse#clickhouse-http-client;0.7.0!clickhouse-http-client.jar (189ms)\n",
      "downloading https://repo1.maven.org/maven2/org/apache/httpcomponents/client5/httpclient5/5.2.1/httpclient5-5.2.1.jar ...\n",
      "\t[SUCCESSFUL ] org.apache.httpcomponents.client5#httpclient5;5.2.1!httpclient5.jar (274ms)\n",
      "downloading https://repo1.maven.org/maven2/org/wildfly/openssl/wildfly-openssl/1.0.7.Final/wildfly-openssl-1.0.7.Final.jar ...\n",
      "\t[SUCCESSFUL ] org.wildfly.openssl#wildfly-openssl;1.0.7.Final!wildfly-openssl.jar (219ms)\n",
      "downloading https://repo1.maven.org/maven2/com/clickhouse/clickhouse-data/0.7.0/clickhouse-data-0.7.0.jar ...\n",
      "\t[SUCCESSFUL ] com.clickhouse#clickhouse-data;0.7.0!clickhouse-data.jar (257ms)\n",
      "downloading https://repo1.maven.org/maven2/org/apache/httpcomponents/core5/httpcore5/5.2/httpcore5-5.2.jar ...\n",
      "\t[SUCCESSFUL ] org.apache.httpcomponents.core5#httpcore5;5.2!httpcore5.jar (320ms)\n",
      "downloading https://repo1.maven.org/maven2/org/apache/httpcomponents/core5/httpcore5-h2/5.2/httpcore5-h2-5.2.jar ...\n",
      "\t[SUCCESSFUL ] org.apache.httpcomponents.core5#httpcore5-h2;5.2!httpcore5-h2.jar (197ms)\n",
      "downloading https://repo1.maven.org/maven2/org/slf4j/slf4j-api/1.7.36/slf4j-api-1.7.36.jar ...\n",
      "\t[SUCCESSFUL ] org.slf4j#slf4j-api;1.7.36!slf4j-api.jar (178ms)\n",
      ":: resolution report :: resolve 11727ms :: artifacts dl 27821ms\n",
      "\t:: modules in use:\n",
      "\tcom.amazonaws#aws-java-sdk-bundle;1.12.262 from central in [default]\n",
      "\tcom.clickhouse#clickhouse-client;0.7.0 from central in [default]\n",
      "\tcom.clickhouse#clickhouse-data;0.7.0 from central in [default]\n",
      "\tcom.clickhouse#clickhouse-http-client;0.7.0 from central in [default]\n",
      "\tcom.clickhouse.spark#clickhouse-spark-runtime-3.4_2.12;0.8.0 from central in [default]\n",
      "\torg.apache.hadoop#hadoop-aws;3.3.4 from central in [default]\n",
      "\torg.apache.httpcomponents.client5#httpclient5;5.2.1 from central in [default]\n",
      "\torg.apache.httpcomponents.core5#httpcore5;5.2 from central in [default]\n",
      "\torg.apache.httpcomponents.core5#httpcore5-h2;5.2 from central in [default]\n",
      "\torg.slf4j#slf4j-api;1.7.36 from central in [default]\n",
      "\torg.wildfly.openssl#wildfly-openssl;1.0.7.Final from central in [default]\n",
      "\t---------------------------------------------------------------------\n",
      "\t|                  |            modules            ||   artifacts   |\n",
      "\t|       conf       | number| search|dwnlded|evicted|| number|dwnlded|\n",
      "\t---------------------------------------------------------------------\n",
      "\t|      default     |   11  |   11  |   11  |   0   ||   11  |   11  |\n",
      "\t---------------------------------------------------------------------\n",
      ":: retrieving :: org.apache.spark#spark-submit-parent-8b0d9423-4783-4623-96fe-b5dedcf227c2\n",
      "\tconfs: [default]\n",
      "\t11 artifacts copied, 0 already retrieved (279484kB/125ms)\n",
      "25/10/16 16:22:03 WARN NativeCodeLoader: Unable to load native-hadoop library for your platform... using builtin-java classes where applicable\n",
      "Setting default log level to \"WARN\".\n",
      "To adjust logging level use sc.setLogLevel(newLevel). For SparkR, use setLogLevel(newLevel).\n"
     ]
    }
   ],
   "source": [
    "from pyspark.sql import SparkSession\n",
    "\n",
    "spark = (\n",
    "    SparkSession.builder\n",
    "    .appName(\"s3_to_clickhouse\")\n",
    "    .master(\"spark://spark-master:7077\")\n",
    "    .config(\n",
    "        \"spark.jars.packages\",\n",
    "        \",\".join([\n",
    "            # s3 packages\n",
    "            \"org.apache.hadoop:hadoop-aws:3.3.4,com.amazonaws:aws-java-sdk-bundle:1.12.262\",\n",
    "            # clcikhouse packages\n",
    "            \"com.clickhouse.spark:clickhouse-spark-runtime-3.4_2.12:0.8.0\",\n",
    "            \"com.clickhouse:clickhouse-client:0.7.0\",\n",
    "            \"com.clickhouse:clickhouse-http-client:0.7.0\",\n",
    "            \"org.apache.httpcomponents.client5:httpclient5:5.2.1\",\n",
    "        ])\n",
    "    )\n",
    "    # s3 configs\n",
    "    .config(\"spark.hadoop.fs.s3a.endpoint\", \"http://minio:9000\")\n",
    "    .config(\"spark.hadoop.fs.s3a.access.key\", \"minio\")\n",
    "    .config(\"spark.hadoop.fs.s3a.secret.key\", \"minio-password\")\n",
    "    .config(\"spark.hadoop.fs.s3a.path.style.access\", \"true\")\n",
    "    .config(\"spark.hadoop.fs.s3a.impl\", \"org.apache.hadoop.fs.s3a.S3AFileSystem\")\n",
    "    # clickhouse configs\n",
    "    .config(\"spark.sql.catalog.clickhouse\", \"com.clickhouse.spark.ClickHouseCatalog\")\n",
    "    .config(\"spark.sql.catalog.clickhouse.host\", \"clickhouse-server\")\n",
    "    .config(\"spark.sql.catalog.clickhouse.protocol\", \"http\")\n",
    "    .config(\"spark.sql.catalog.clickhouse.http_port\", \"8123\")\n",
    "    .config(\"spark.sql.catalog.clickhouse.user\", \"default\")\n",
    "    .config(\"spark.sql.catalog.clickhouse.password\", \"1234qwe\")\n",
    "    .config(\"spark.sql.catalog.clickhouse.database\", \"default\")\n",
    "    .config(\"spark.clickhouse.write.format\", \"json\")\n",
    "    .getOrCreate()\n",
    ")"
   ]
  },
  {
   "cell_type": "code",
   "execution_count": 2,
   "id": "6532e1af-0ad5-40a1-932f-4d233469e68c",
   "metadata": {},
   "outputs": [
    {
     "name": "stderr",
     "output_type": "stream",
     "text": [
      "25/10/16 16:22:14 WARN MetricsConfig: Cannot locate configuration: tried hadoop-metrics2-s3a-file-system.properties,hadoop-metrics2.properties\n",
      "                                                                                \r"
     ]
    },
    {
     "name": "stdout",
     "output_type": "stream",
     "text": [
      "+---+---------------+------+\n",
      "|id |name           |value |\n",
      "+---+---------------+------+\n",
      "|371|test_record_371|478.34|\n",
      "|445|test_record_445|68.44 |\n",
      "|211|test_record_211|823.56|\n",
      "|149|test_record_149|312.37|\n",
      "|86 |test_record_86 |232.7 |\n",
      "|491|test_record_491|397.39|\n",
      "|266|test_record_266|790.16|\n",
      "|3  |test_record_3  |534.92|\n",
      "|257|test_record_257|860.8 |\n",
      "|103|test_record_103|684.82|\n",
      "|110|test_record_110|847.1 |\n",
      "|68 |test_record_68 |811.67|\n",
      "|421|test_record_421|671.11|\n",
      "|364|test_record_364|144.37|\n",
      "|190|test_record_190|984.4 |\n",
      "|97 |test_record_97 |120.8 |\n",
      "|381|test_record_381|58.58 |\n",
      "|393|test_record_393|221.61|\n",
      "|438|test_record_438|737.89|\n",
      "|214|test_record_214|778.84|\n",
      "+---+---------------+------+\n",
      "only showing top 20 rows\n",
      "\n",
      "root\n",
      " |-- id: long (nullable = true)\n",
      " |-- name: string (nullable = true)\n",
      " |-- value: double (nullable = true)\n",
      "\n"
     ]
    }
   ],
   "source": [
    "df = spark.read.parquet(f\"s3a://batch-bucket/parquet_table/\")\n",
    "df.show(truncate=False)\n",
    "df.printSchema()"
   ]
  },
  {
   "cell_type": "code",
   "execution_count": 3,
   "id": "c72d0547-9b4d-417b-9efa-f4f280af0b56",
   "metadata": {},
   "outputs": [
    {
     "data": {
      "text/plain": [
       "DataFrame[]"
      ]
     },
     "execution_count": 3,
     "metadata": {},
     "output_type": "execute_result"
    }
   ],
   "source": [
    "spark.sql(\"\"\"\n",
    "CREATE TABLE IF NOT EXISTS clickhouse.default.test_table (\n",
    "    id INT NOT NULL,\n",
    "    name STRING,\n",
    "    value FLOAT\n",
    ")\n",
    "USING clickhouse\n",
    "TBLPROPERTIES (\n",
    "    'engine'='MergeTree()',\n",
    "    'order_by'='id'\n",
    ")\n",
    "\"\"\")"
   ]
  },
  {
   "cell_type": "code",
   "execution_count": 4,
   "id": "4b0f92a3-8a2c-42df-a008-605776774cea",
   "metadata": {},
   "outputs": [
    {
     "name": "stderr",
     "output_type": "stream",
     "text": [
      "                                                                                \r"
     ]
    }
   ],
   "source": [
    "df.writeTo(\"clickhouse.default.test_table\").append()"
   ]
  },
  {
   "cell_type": "code",
   "execution_count": 5,
   "id": "31b01666-a797-485c-bb97-b55553249845",
   "metadata": {},
   "outputs": [
    {
     "name": "stdout",
     "output_type": "stream",
     "text": [
      "+---+--------------+------+\n",
      "| id|          name| value|\n",
      "+---+--------------+------+\n",
      "|  1| test_record_1|787.86|\n",
      "|  2| test_record_2|462.91|\n",
      "|  3| test_record_3|534.92|\n",
      "|  7| test_record_7|696.54|\n",
      "|  8| test_record_8|826.02|\n",
      "| 11|test_record_11|868.09|\n",
      "| 12|test_record_12|564.66|\n",
      "| 13|test_record_13|511.07|\n",
      "| 14|test_record_14|581.58|\n",
      "| 15|test_record_15|681.07|\n",
      "| 18|test_record_18|230.19|\n",
      "| 21|test_record_21|351.03|\n",
      "| 23|test_record_23|636.17|\n",
      "| 24|test_record_24|564.96|\n",
      "| 25|test_record_25|121.46|\n",
      "| 31|test_record_31|595.62|\n",
      "| 32|test_record_32|785.98|\n",
      "| 35|test_record_35|931.88|\n",
      "| 36|test_record_36|328.08|\n",
      "| 38|test_record_38|701.95|\n",
      "+---+--------------+------+\n",
      "only showing top 20 rows\n",
      "\n"
     ]
    }
   ],
   "source": [
    "df_new = spark.sql(\"select * from clickhouse.default.test_table\")\n",
    "df_new.show()"
   ]
  },
  {
   "cell_type": "code",
   "execution_count": 6,
   "id": "4c651754-9c5c-4a8d-b044-e37573ce7e81",
   "metadata": {},
   "outputs": [],
   "source": [
    "spark.stop()"
   ]
  },
  {
   "cell_type": "code",
   "execution_count": null,
   "id": "972258e3-3dd3-4f1a-ae91-b6ac400e1ab5",
   "metadata": {},
   "outputs": [],
   "source": []
  }
 ],
 "metadata": {
  "kernelspec": {
   "display_name": "Python 3 (ipykernel)",
   "language": "python",
   "name": "python3"
  },
  "language_info": {
   "codemirror_mode": {
    "name": "ipython",
    "version": 3
   },
   "file_extension": ".py",
   "mimetype": "text/x-python",
   "name": "python",
   "nbconvert_exporter": "python",
   "pygments_lexer": "ipython3",
   "version": "3.8.13"
  }
 },
 "nbformat": 4,
 "nbformat_minor": 5
}
