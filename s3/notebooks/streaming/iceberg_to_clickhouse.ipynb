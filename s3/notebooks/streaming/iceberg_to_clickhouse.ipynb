{
 "cells": [
  {
   "cell_type": "code",
   "execution_count": 1,
   "id": "de315fed-b5d5-43ce-a890-ce93d85f37e6",
   "metadata": {},
   "outputs": [
    {
     "name": "stdout",
     "output_type": "stream",
     "text": [
      ":: loading settings :: url = jar:file:/opt/conda/lib/python3.8/site-packages/pyspark/jars/ivy-2.5.1.jar!/org/apache/ivy/core/settings/ivysettings.xml\n"
     ]
    },
    {
     "name": "stderr",
     "output_type": "stream",
     "text": [
      "Ivy Default Cache set to: /home/jovyan/.ivy2/cache\n",
      "The jars for the packages stored in: /home/jovyan/.ivy2/jars\n",
      "org.apache.hadoop#hadoop-aws added as a dependency\n",
      "com.amazonaws#aws-java-sdk-bundle added as a dependency\n",
      "org.apache.iceberg#iceberg-spark-runtime-3.5_2.12 added as a dependency\n",
      "org.apache.iceberg#iceberg-aws-bundle added as a dependency\n",
      "com.clickhouse#clickhouse-jdbc added as a dependency\n",
      ":: resolving dependencies :: org.apache.spark#spark-submit-parent-de1fbeba-1431-422e-b408-58a4c40eea7a;1.0\n",
      "\tconfs: [default]\n",
      "\tfound org.apache.hadoop#hadoop-aws;3.3.4 in central\n",
      "\tfound com.amazonaws#aws-java-sdk-bundle;1.12.262 in central\n",
      "\tfound org.wildfly.openssl#wildfly-openssl;1.0.7.Final in central\n",
      "\tfound org.apache.iceberg#iceberg-spark-runtime-3.5_2.12;1.10.0 in central\n",
      "\tfound org.apache.iceberg#iceberg-aws-bundle;1.10.0 in central\n",
      "\tfound com.clickhouse#clickhouse-jdbc;0.7.1 in central\n",
      "\tfound com.clickhouse#clickhouse-client;0.7.1 in central\n",
      "\tfound com.clickhouse#clickhouse-data;0.7.1 in central\n",
      "\tfound com.clickhouse#clickhouse-http-client;0.7.1 in central\n",
      "\tfound org.apache.httpcomponents.core5#httpcore5-h2;5.2 in central\n",
      "\tfound org.slf4j#slf4j-api;2.0.7 in central\n",
      "\tfound org.apache.httpcomponents.client5#httpclient5;5.2.1 in central\n",
      "\tfound org.apache.httpcomponents.core5#httpcore5;5.2.1 in central\n",
      ":: resolution report :: resolve 519ms :: artifacts dl 20ms\n",
      "\t:: modules in use:\n",
      "\tcom.amazonaws#aws-java-sdk-bundle;1.12.262 from central in [default]\n",
      "\tcom.clickhouse#clickhouse-client;0.7.1 from central in [default]\n",
      "\tcom.clickhouse#clickhouse-data;0.7.1 from central in [default]\n",
      "\tcom.clickhouse#clickhouse-http-client;0.7.1 from central in [default]\n",
      "\tcom.clickhouse#clickhouse-jdbc;0.7.1 from central in [default]\n",
      "\torg.apache.hadoop#hadoop-aws;3.3.4 from central in [default]\n",
      "\torg.apache.httpcomponents.client5#httpclient5;5.2.1 from central in [default]\n",
      "\torg.apache.httpcomponents.core5#httpcore5;5.2.1 from central in [default]\n",
      "\torg.apache.httpcomponents.core5#httpcore5-h2;5.2 from central in [default]\n",
      "\torg.apache.iceberg#iceberg-aws-bundle;1.10.0 from central in [default]\n",
      "\torg.apache.iceberg#iceberg-spark-runtime-3.5_2.12;1.10.0 from central in [default]\n",
      "\torg.slf4j#slf4j-api;2.0.7 from central in [default]\n",
      "\torg.wildfly.openssl#wildfly-openssl;1.0.7.Final from central in [default]\n",
      "\t---------------------------------------------------------------------\n",
      "\t|                  |            modules            ||   artifacts   |\n",
      "\t|       conf       | number| search|dwnlded|evicted|| number|dwnlded|\n",
      "\t---------------------------------------------------------------------\n",
      "\t|      default     |   13  |   0   |   0   |   0   ||   13  |   0   |\n",
      "\t---------------------------------------------------------------------\n",
      ":: retrieving :: org.apache.spark#spark-submit-parent-de1fbeba-1431-422e-b408-58a4c40eea7a\n",
      "\tconfs: [default]\n",
      "\t0 artifacts copied, 13 already retrieved (0kB/13ms)\n",
      "25/10/21 03:50:30 WARN NativeCodeLoader: Unable to load native-hadoop library for your platform... using builtin-java classes where applicable\n",
      "Setting default log level to \"WARN\".\n",
      "To adjust logging level use sc.setLogLevel(newLevel). For SparkR, use setLogLevel(newLevel).\n"
     ]
    }
   ],
   "source": [
    "from pyspark.sql import SparkSession\n",
    "from pyspark.sql.functions import col\n",
    "\n",
    "# Initialize Spark Session with Iceberg and ClickHouse configurations\n",
    "spark = (\n",
    "    SparkSession.builder\n",
    "    .appName(\"streaming_iceberg_to_clickhouse\")\n",
    "    .master(\"spark://spark-master:7077\")\n",
    "    .config(\n",
    "        \"spark.jars.packages\",\n",
    "        \",\".join([\n",
    "            # s3 (AWS SDK v2)\n",
    "            \"org.apache.hadoop:hadoop-aws:3.3.4\",\n",
    "            \"com.amazonaws:aws-java-sdk-bundle:1.12.262\",\n",
    "            # iceberg packages\n",
    "            \"org.apache.iceberg:iceberg-spark-runtime-3.5_2.12:1.10.0\",\n",
    "            \"org.apache.iceberg:iceberg-aws-bundle:1.10.0\",\n",
    "            # clcikhouse packages\n",
    "            \"com.clickhouse:clickhouse-jdbc:0.7.1\"\n",
    "        ])\n",
    "    )\n",
    "    # iceberg confs\n",
    "    .config(\"spark.sql.extensions\", \"org.apache.iceberg.spark.extensions.IcebergSparkSessionExtensions\") \n",
    "    .config(\"spark.sql.catalog.iceberg\", \"org.apache.iceberg.spark.SparkCatalog\") \n",
    "    .config(\"spark.sql.catalog.iceberg.type\", \"rest\") \n",
    "    .config(\"spark.sql.catalog.iceberg.uri\", \"http://iceberg:8181\") \n",
    "    .config(\"spark.sql.catalog.iceberg.io-impl\", \"org.apache.iceberg.aws.s3.S3FileIO\") \n",
    "    .config(\"spark.sql.catalog.iceberg.warehouse\", \"s3://iceberg/\") \n",
    "    .config(\"spark.sql.catalog.iceberg.s3.endpoint\", \"http://minio:9000\") \n",
    "    .config(\"spark.sql.catalog.iceberg.s3.path-style-access\", \"true\")\n",
    "    # s3 confs\n",
    "    .config(\"spark.hadoop.fs.s3a.access.key\", \"minio\") \n",
    "    .config(\"spark.hadoop.fs.s3a.secret.key\", \"minio-password\") \n",
    "    .config(\"spark.hadoop.fs.s3a.endpoint\", \"http://minio:9000\") \n",
    "    .config(\"spark.hadoop.fs.s3a.path.style.access\", \"true\") \n",
    "    .config(\"spark.hadoop.fs.s3a.impl\", \"org.apache.hadoop.fs.s3a.S3AFileSystem\") \n",
    "    .config(\"spark.hadoop.fs.s3a.connection.ssl.enabled\", \"false\")\n",
    "    # Чтобы сессия не занимала все воркеры\n",
    "    .config(\"spark.cores.max\", \"3\")\n",
    "    .getOrCreate()\n",
    ")"
   ]
  },
  {
   "cell_type": "markdown",
   "id": "8365f84a-bb61-4793-9e67-1b3baa41796d",
   "metadata": {},
   "source": [
    "## Подготовим iceberg- и clickhouse- таблицы"
   ]
  },
  {
   "cell_type": "code",
   "execution_count": 3,
   "id": "7b01e5f2-ae66-4805-9b92-02df8b17056e",
   "metadata": {},
   "outputs": [
    {
     "data": {
      "text/plain": [
       "DataFrame[]"
      ]
     },
     "execution_count": 3,
     "metadata": {},
     "output_type": "execute_result"
    }
   ],
   "source": [
    "# spark.sql(\"DROP TABLE IF EXISTS iceberg.test_schema.streaming_test_table\")\n",
    "\n",
    "spark.sql(\"CREATE NAMESPACE IF NOT EXISTS iceberg.test_schema\")\n",
    "\n",
    "# Create Iceberg table (adjust schema according to your needs)\n",
    "spark.sql(\"\"\"\n",
    "    CREATE TABLE IF NOT EXISTS iceberg.test_schema.streaming_test_table (\n",
    "        id STRING,\n",
    "        name STRING,\n",
    "        hdttm TIMESTAMP\n",
    "    )\n",
    "    USING iceberg\n",
    "    TBLPROPERTIES (\n",
    "        'format-version' = '2',\n",
    "        'write.parquet.compression-codec' = 'snappy'\n",
    "    )\n",
    "\"\"\")"
   ]
  },
  {
   "cell_type": "markdown",
   "id": "8b13abc1-090b-44f7-937f-47892244902a",
   "metadata": {},
   "source": [
    "Выполним DDL-запрос по адресу http://localhost:8123/play\n",
    "```SQL\n",
    "CREATE TABLE default.streaming_test_table\n",
    "(\n",
    "    id String,\n",
    "    name String,\n",
    "    hdttm DateTime\n",
    ")\n",
    "ENGINE = MergeTree()\n",
    "ORDER BY id;\n",
    "```"
   ]
  },
  {
   "cell_type": "markdown",
   "id": "5c62d252-c113-4ed1-a3f7-7398b5c8857b",
   "metadata": {},
   "source": [
    "## Запустим main.py"
   ]
  },
  {
   "cell_type": "markdown",
   "id": "7e1a9531-936c-4358-b328-3d55a82af8d4",
   "metadata": {},
   "source": [
    "Выполним ```python3 main.py``` в терминале"
   ]
  },
  {
   "cell_type": "markdown",
   "id": "003da0ee-eae7-4836-98f8-14b64efdf3f4",
   "metadata": {},
   "source": [
    "## Iceberg -> ClickHouse"
   ]
  },
  {
   "cell_type": "code",
   "execution_count": 7,
   "id": "a3f7d601-a7a9-4427-b9db-22fbd4fa2075",
   "metadata": {},
   "outputs": [],
   "source": [
    "streaming_df = (\n",
    "    spark.readStream\n",
    "    .format(\"iceberg\")\n",
    "    .option(\"stream-from-timestamp\", \"0\")\n",
    "    .load(\"iceberg.test_schema.streaming_test_table\")\n",
    ")"
   ]
  },
  {
   "cell_type": "code",
   "execution_count": null,
   "id": "fb56775b-9b48-4046-abe3-df42be5aba74",
   "metadata": {},
   "outputs": [
    {
     "name": "stderr",
     "output_type": "stream",
     "text": [
      "25/10/21 03:55:29 WARN MetricsConfig: Cannot locate configuration: tried hadoop-metrics2-s3a-file-system.properties,hadoop-metrics2.properties\n",
      "25/10/21 03:55:31 WARN ResolveWriteToStream: spark.sql.adaptive.enabled is not supported in streaming DataFrames/Datasets and will be disabled.\n",
      "                                                                                \r"
     ]
    },
    {
     "name": "stdout",
     "output_type": "stream",
     "text": [
      "\n",
      "Processing batch 1 with 41 records\n"
     ]
    },
    {
     "name": "stderr",
     "output_type": "stream",
     "text": [
      "                                                                                \r"
     ]
    },
    {
     "name": "stdout",
     "output_type": "stream",
     "text": [
      "Batch 1 written successfully to ClickHouse\n"
     ]
    },
    {
     "name": "stderr",
     "output_type": "stream",
     "text": [
      "25/10/21 03:55:50 WARN ProcessingTimeExecutor: Current batch is falling behind. The trigger interval is 10000 milliseconds, but spent 18695 milliseconds\n"
     ]
    },
    {
     "name": "stdout",
     "output_type": "stream",
     "text": [
      "\n",
      "Processing batch 2 with 8 records\n",
      "Batch 2 written successfully to ClickHouse\n",
      "\n",
      "Processing batch 3 with 3 records\n",
      "Batch 3 written successfully to ClickHouse\n",
      "\n",
      "Processing batch 4 with 2 records\n"
     ]
    },
    {
     "name": "stderr",
     "output_type": "stream",
     "text": [
      "                                                                                \r"
     ]
    },
    {
     "name": "stdout",
     "output_type": "stream",
     "text": [
      "Batch 4 written successfully to ClickHouse\n",
      "\n",
      "Processing batch 5 with 5 records\n",
      "Batch 5 written successfully to ClickHouse\n",
      "\n",
      "Processing batch 6 with 4 records\n",
      "Batch 6 written successfully to ClickHouse\n",
      "\n",
      "Processing batch 7 with 5 records\n",
      "Batch 7 written successfully to ClickHouse\n",
      "\n",
      "Processing batch 8 with 3 records\n",
      "Batch 8 written successfully to ClickHouse\n",
      "\n",
      "Processing batch 9 with 4 records\n",
      "Batch 9 written successfully to ClickHouse\n",
      "\n",
      "Processing batch 10 with 5 records\n",
      "Batch 10 written successfully to ClickHouse\n",
      "\n",
      "Processing batch 11 with 4 records\n",
      "Batch 11 written successfully to ClickHouse\n",
      "\n",
      "Processing batch 12 with 6 records\n",
      "Batch 12 written successfully to ClickHouse\n",
      "\n",
      "Processing batch 13 with 6 records\n",
      "Batch 13 written successfully to ClickHouse\n",
      "\n",
      "Processing batch 14 with 3 records\n",
      "Batch 14 written successfully to ClickHouse\n"
     ]
    }
   ],
   "source": [
    "def write_to_clickhouse(batch_df, batch_id):\n",
    "    if not batch_df.isEmpty():\n",
    "        print(f\"\\nProcessing batch {batch_id} with {batch_df.count()} records\")\n",
    "        \n",
    "        (\n",
    "            batch_df.write\n",
    "            .format(\"jdbc\")\n",
    "            .option(\"driver\", \"com.clickhouse.jdbc.ClickHouseDriver\")\n",
    "            .option(\"url\", \"jdbc:clickhouse://clickhouse-server:8123/default\")\n",
    "            .option(\"dbtable\", \"default.streaming_test_table\")\n",
    "            .option(\"user\", \"default\")\n",
    "            .option(\"password\", \"1234qwe\")\n",
    "            .option(\"batchsize\", \"10000\")\n",
    "            .option(\"socket_timeout\", \"300000\")\n",
    "            .option(\"numPartitions\", \"4\")\n",
    "            .option(\"rewriteBatchedStatements\", \"true\")\n",
    "            .mode(\"append\")\n",
    "            .save()\n",
    "        )\n",
    "        \n",
    "        print(f\"Batch {batch_id} written successfully to ClickHouse\")\n",
    "    else:\n",
    "        print(f\"Batch {batch_id} is empty, skipping\")\n",
    "\n",
    "query = (\n",
    "    streaming_df.writeStream \n",
    "    .foreachBatch(write_to_clickhouse)\n",
    "    .outputMode(\"append\")\n",
    "    .option(\"checkpointLocation\", \"s3a://checkpoints/iceberg_to_clickhouse_checkpoints\")\n",
    "    .trigger(processingTime=\"10 seconds\")\n",
    "    .start()\n",
    ")\n",
    "\n",
    "query.awaitTermination()"
   ]
  },
  {
   "cell_type": "code",
   "execution_count": null,
   "id": "b9b66538-62b1-4a0a-abe5-f3cf4198c077",
   "metadata": {},
   "outputs": [],
   "source": [
    "spark.stop()"
   ]
  }
 ],
 "metadata": {
  "kernelspec": {
   "display_name": "Python 3 (ipykernel)",
   "language": "python",
   "name": "python3"
  },
  "language_info": {
   "codemirror_mode": {
    "name": "ipython",
    "version": 3
   },
   "file_extension": ".py",
   "mimetype": "text/x-python",
   "name": "python",
   "nbconvert_exporter": "python",
   "pygments_lexer": "ipython3",
   "version": "3.8.13"
  }
 },
 "nbformat": 4,
 "nbformat_minor": 5
}
