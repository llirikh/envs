{
 "cells": [
  {
   "cell_type": "markdown",
   "id": "a7ca89a0-f4cf-40be-9032-b725fa960cc2",
   "metadata": {},
   "source": [
    "## Создание нового бакета"
   ]
  },
  {
   "cell_type": "code",
   "execution_count": 1,
   "id": "465b005b-6a80-449c-945a-bf9c95ab9862",
   "metadata": {},
   "outputs": [
    {
     "name": "stdout",
     "output_type": "stream",
     "text": [
      "Collecting boto3\n",
      "  Downloading boto3-1.40.53-py3-none-any.whl.metadata (6.6 kB)\n",
      "Collecting botocore<1.41.0,>=1.40.53 (from boto3)\n",
      "  Downloading botocore-1.40.53-py3-none-any.whl.metadata (5.7 kB)\n",
      "Collecting jmespath<2.0.0,>=0.7.1 (from boto3)\n",
      "  Downloading jmespath-1.0.1-py3-none-any.whl.metadata (7.6 kB)\n",
      "Collecting s3transfer<0.15.0,>=0.14.0 (from boto3)\n",
      "  Downloading s3transfer-0.14.0-py3-none-any.whl.metadata (1.7 kB)\n",
      "Requirement already satisfied: python-dateutil<3.0.0,>=2.1 in /opt/conda/lib/python3.11/site-packages (from botocore<1.41.0,>=1.40.53->boto3) (2.8.2)\n",
      "Requirement already satisfied: urllib3!=2.2.0,<3,>=1.25.4 in /opt/conda/lib/python3.11/site-packages (from botocore<1.41.0,>=1.40.53->boto3) (2.0.7)\n",
      "Requirement already satisfied: six>=1.5 in /opt/conda/lib/python3.11/site-packages (from python-dateutil<3.0.0,>=2.1->botocore<1.41.0,>=1.40.53->boto3) (1.16.0)\n",
      "Downloading boto3-1.40.53-py3-none-any.whl (139 kB)\n",
      "\u001b[2K   \u001b[90m━━━━━━━━━━━━━━━━━━━━━━━━━━━━━━━━━━━━━━━━\u001b[0m \u001b[32m139.3/139.3 kB\u001b[0m \u001b[31m1.2 MB/s\u001b[0m eta \u001b[36m0:00:00\u001b[0ma \u001b[36m0:00:01\u001b[0m\n",
      "\u001b[?25hDownloading botocore-1.40.53-py3-none-any.whl (14.1 MB)\n",
      "\u001b[2K   \u001b[90m━━━━━━━━━━━━━━━━━━━━━━━━━━━━━━━━━━━━━━━━\u001b[0m \u001b[32m14.1/14.1 MB\u001b[0m \u001b[31m8.2 MB/s\u001b[0m eta \u001b[36m0:00:00\u001b[0m00:01\u001b[0m00:01\u001b[0m\n",
      "\u001b[?25hDownloading jmespath-1.0.1-py3-none-any.whl (20 kB)\n",
      "Downloading s3transfer-0.14.0-py3-none-any.whl (85 kB)\n",
      "\u001b[2K   \u001b[90m━━━━━━━━━━━━━━━━━━━━━━━━━━━━━━━━━━━━━━━━\u001b[0m \u001b[32m85.7/85.7 kB\u001b[0m \u001b[31m9.1 MB/s\u001b[0m eta \u001b[36m0:00:00\u001b[0m\n",
      "\u001b[?25hInstalling collected packages: jmespath, botocore, s3transfer, boto3\n",
      "Successfully installed boto3-1.40.53 botocore-1.40.53 jmespath-1.0.1 s3transfer-0.14.0\n"
     ]
    }
   ],
   "source": [
    "!pip install boto3"
   ]
  },
  {
   "cell_type": "code",
   "execution_count": 2,
   "id": "0676d2bb-51b2-45ed-977d-3716a0abf746",
   "metadata": {},
   "outputs": [],
   "source": [
    "import boto3\n",
    "\n",
    "s3 = boto3.client(\n",
    "    's3',\n",
    "    endpoint_url='http://minio:9000',\n",
    "    aws_access_key_id='minio',\n",
    "    aws_secret_access_key='minio-password',\n",
    ")\n",
    "\n",
    "bucket_name = \"batch-bucket\"\n",
    "\n",
    "existing = [b['Name'] for b in s3.list_buckets()['Buckets']]\n",
    "if bucket_name not in existing:\n",
    "    s3.create_bucket(Bucket=bucket_name)\n",
    "else:\n",
    "    print(f\"{bucket_name} is existing\")"
   ]
  },
  {
   "cell_type": "markdown",
   "id": "4a467026-830e-4085-8e02-3f17c205cf97",
   "metadata": {},
   "source": [
    "## Запись в minio"
   ]
  },
  {
   "cell_type": "code",
   "execution_count": 1,
   "id": "1839e86e-50ea-41f0-8c0a-5808529cba33",
   "metadata": {},
   "outputs": [
    {
     "name": "stdout",
     "output_type": "stream",
     "text": [
      ":: loading settings :: url = jar:file:/opt/conda/lib/python3.8/site-packages/pyspark/jars/ivy-2.5.1.jar!/org/apache/ivy/core/settings/ivysettings.xml\n"
     ]
    },
    {
     "name": "stderr",
     "output_type": "stream",
     "text": [
      "Ivy Default Cache set to: /home/jovyan/.ivy2/cache\n",
      "The jars for the packages stored in: /home/jovyan/.ivy2/jars\n",
      "org.apache.hadoop#hadoop-aws added as a dependency\n",
      "com.amazonaws#aws-java-sdk-bundle added as a dependency\n",
      ":: resolving dependencies :: org.apache.spark#spark-submit-parent-cb89a882-32ac-4b8e-af9c-da8c85d6fc9e;1.0\n",
      "\tconfs: [default]\n",
      "\tfound org.apache.hadoop#hadoop-aws;3.3.4 in central\n",
      "\tfound com.amazonaws#aws-java-sdk-bundle;1.12.262 in central\n",
      "\tfound org.wildfly.openssl#wildfly-openssl;1.0.7.Final in central\n",
      "downloading https://repo1.maven.org/maven2/org/apache/hadoop/hadoop-aws/3.3.4/hadoop-aws-3.3.4.jar ...\n",
      "\t[SUCCESSFUL ] org.apache.hadoop#hadoop-aws;3.3.4!hadoop-aws.jar (353ms)\n",
      "downloading https://repo1.maven.org/maven2/com/amazonaws/aws-java-sdk-bundle/1.12.262/aws-java-sdk-bundle-1.12.262.jar ...\n",
      "\t[SUCCESSFUL ] com.amazonaws#aws-java-sdk-bundle;1.12.262!aws-java-sdk-bundle.jar (24964ms)\n",
      "downloading https://repo1.maven.org/maven2/org/wildfly/openssl/wildfly-openssl/1.0.7.Final/wildfly-openssl-1.0.7.Final.jar ...\n",
      "\t[SUCCESSFUL ] org.wildfly.openssl#wildfly-openssl;1.0.7.Final!wildfly-openssl.jar (192ms)\n",
      ":: resolution report :: resolve 4369ms :: artifacts dl 25513ms\n",
      "\t:: modules in use:\n",
      "\tcom.amazonaws#aws-java-sdk-bundle;1.12.262 from central in [default]\n",
      "\torg.apache.hadoop#hadoop-aws;3.3.4 from central in [default]\n",
      "\torg.wildfly.openssl#wildfly-openssl;1.0.7.Final from central in [default]\n",
      "\t---------------------------------------------------------------------\n",
      "\t|                  |            modules            ||   artifacts   |\n",
      "\t|       conf       | number| search|dwnlded|evicted|| number|dwnlded|\n",
      "\t---------------------------------------------------------------------\n",
      "\t|      default     |   3   |   3   |   3   |   0   ||   3   |   3   |\n",
      "\t---------------------------------------------------------------------\n",
      ":: retrieving :: org.apache.spark#spark-submit-parent-cb89a882-32ac-4b8e-af9c-da8c85d6fc9e\n",
      "\tconfs: [default]\n",
      "\t3 artifacts copied, 0 already retrieved (275421kB/122ms)\n",
      "25/10/16 15:50:18 WARN NativeCodeLoader: Unable to load native-hadoop library for your platform... using builtin-java classes where applicable\n",
      "Setting default log level to \"WARN\".\n",
      "To adjust logging level use sc.setLogLevel(newLevel). For SparkR, use setLogLevel(newLevel).\n"
     ]
    }
   ],
   "source": [
    "from pyspark.sql import SparkSession\n",
    "\n",
    "spark = (\n",
    "    SparkSession.builder\n",
    "    .appName(\"to_s3\")\n",
    "    .master(\"spark://spark-master:7077\")\n",
    "    .config(\"spark.hadoop.fs.s3a.endpoint\", \"http://minio:9000\")\n",
    "    .config(\"spark.jars.packages\",\n",
    "            \"org.apache.hadoop:hadoop-aws:3.3.4,com.amazonaws:aws-java-sdk-bundle:1.12.262\")\n",
    "    .config(\"spark.hadoop.fs.s3a.access.key\", \"minio\")\n",
    "    .config(\"spark.hadoop.fs.s3a.secret.key\", \"minio-password\")\n",
    "    .config(\"spark.hadoop.fs.s3a.path.style.access\", \"true\")\n",
    "    .config(\"spark.hadoop.fs.s3a.impl\", \"org.apache.hadoop.fs.s3a.S3AFileSystem\")\n",
    "    .getOrCreate()\n",
    ")"
   ]
  },
  {
   "cell_type": "code",
   "execution_count": 2,
   "id": "3dbda185-6f52-44af-91b3-cabc847cf2bc",
   "metadata": {},
   "outputs": [
    {
     "name": "stderr",
     "output_type": "stream",
     "text": [
      "                                                                                \r"
     ]
    },
    {
     "name": "stdout",
     "output_type": "stream",
     "text": [
      "+---+--------------+------+\n",
      "| id|          name| value|\n",
      "+---+--------------+------+\n",
      "|  1| test_record_1|787.86|\n",
      "|  2| test_record_2|462.91|\n",
      "|  3| test_record_3|534.92|\n",
      "|  4| test_record_4|932.76|\n",
      "|  5| test_record_5|282.25|\n",
      "|  6| test_record_6| 11.39|\n",
      "|  7| test_record_7|696.54|\n",
      "|  8| test_record_8|826.02|\n",
      "|  9| test_record_9|556.78|\n",
      "| 10|test_record_10| 22.09|\n",
      "| 11|test_record_11|868.09|\n",
      "| 12|test_record_12|564.66|\n",
      "| 13|test_record_13|511.07|\n",
      "| 14|test_record_14|581.58|\n",
      "| 15|test_record_15|681.07|\n",
      "| 16|test_record_16|934.35|\n",
      "| 17|test_record_17| 99.32|\n",
      "| 18|test_record_18|230.19|\n",
      "| 19|test_record_19|535.66|\n",
      "| 20|test_record_20|363.93|\n",
      "+---+--------------+------+\n",
      "only showing top 20 rows\n",
      "\n"
     ]
    }
   ],
   "source": [
    "from pyspark.sql import Row\n",
    "import random\n",
    "\n",
    "count = 1000\n",
    "data = [\n",
    "    Row(id=i, name=f\"test_record_{i}\", value=round(random.uniform(0, 1000), 2))\n",
    "    for i in range(1, count + 1)\n",
    "]\n",
    "\n",
    "df = spark.createDataFrame(data)\n",
    "df.show()"
   ]
  },
  {
   "cell_type": "code",
   "execution_count": 3,
   "id": "c30075f8-5829-4175-8e40-212296b8ae97",
   "metadata": {},
   "outputs": [
    {
     "name": "stderr",
     "output_type": "stream",
     "text": [
      "25/10/16 15:50:27 WARN MetricsConfig: Cannot locate configuration: tried hadoop-metrics2-s3a-file-system.properties,hadoop-metrics2.properties\n",
      "                                                                                \r"
     ]
    }
   ],
   "source": [
    "df.repartition(10).write.mode(\"overwrite\").parquet(f\"s3a://batch-bucket/parquet_table/\")"
   ]
  },
  {
   "cell_type": "code",
   "execution_count": 5,
   "id": "e5b49106-5294-4de2-ba4c-027eb7661953",
   "metadata": {},
   "outputs": [
    {
     "name": "stdout",
     "output_type": "stream",
     "text": [
      "+---+---------------+------+\n",
      "|id |name           |value |\n",
      "+---+---------------+------+\n",
      "|371|test_record_371|478.34|\n",
      "|445|test_record_445|68.44 |\n",
      "|211|test_record_211|823.56|\n",
      "|149|test_record_149|312.37|\n",
      "|86 |test_record_86 |232.7 |\n",
      "|491|test_record_491|397.39|\n",
      "|266|test_record_266|790.16|\n",
      "|3  |test_record_3  |534.92|\n",
      "|257|test_record_257|860.8 |\n",
      "|103|test_record_103|684.82|\n",
      "|110|test_record_110|847.1 |\n",
      "|68 |test_record_68 |811.67|\n",
      "|421|test_record_421|671.11|\n",
      "|364|test_record_364|144.37|\n",
      "|190|test_record_190|984.4 |\n",
      "|97 |test_record_97 |120.8 |\n",
      "|381|test_record_381|58.58 |\n",
      "|393|test_record_393|221.61|\n",
      "|438|test_record_438|737.89|\n",
      "|214|test_record_214|778.84|\n",
      "+---+---------------+------+\n",
      "only showing top 20 rows\n",
      "\n"
     ]
    },
    {
     "data": {
      "text/plain": [
       "1000"
      ]
     },
     "execution_count": 5,
     "metadata": {},
     "output_type": "execute_result"
    }
   ],
   "source": [
    "df_check = spark.read.parquet(f\"s3a://batch-bucket/parquet_table/\")\n",
    "df_check.show(truncate=False)\n",
    "df_check.count()"
   ]
  },
  {
   "cell_type": "code",
   "execution_count": null,
   "id": "4c505f49-fd50-42c2-8755-8e4f436f854d",
   "metadata": {},
   "outputs": [],
   "source": [
    "spark.stop()"
   ]
  }
 ],
 "metadata": {
  "kernelspec": {
   "display_name": "Python 3 (ipykernel)",
   "language": "python",
   "name": "python3"
  },
  "language_info": {
   "codemirror_mode": {
    "name": "ipython",
    "version": 3
   },
   "file_extension": ".py",
   "mimetype": "text/x-python",
   "name": "python",
   "nbconvert_exporter": "python",
   "pygments_lexer": "ipython3",
   "version": "3.8.13"
  }
 },
 "nbformat": 4,
 "nbformat_minor": 5
}
