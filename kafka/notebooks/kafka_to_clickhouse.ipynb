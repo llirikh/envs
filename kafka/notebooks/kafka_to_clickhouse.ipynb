{
 "cells": [
  {
   "cell_type": "code",
   "execution_count": 2,
   "id": "76b2b3c9-dc01-4448-89b2-5edca646b122",
   "metadata": {},
   "outputs": [
    {
     "name": "stdout",
     "output_type": "stream",
     "text": [
      ":: loading settings :: url = jar:file:/opt/conda/lib/python3.11/site-packages/pyspark/jars/ivy-2.5.1.jar!/org/apache/ivy/core/settings/ivysettings.xml\n"
     ]
    },
    {
     "name": "stderr",
     "output_type": "stream",
     "text": [
      "Ivy Default Cache set to: /home/jovyan/.ivy2/cache\n",
      "The jars for the packages stored in: /home/jovyan/.ivy2/jars\n",
      "org.apache.spark#spark-sql-kafka-0-10_2.12 added as a dependency\n",
      "org.apache.kafka#kafka-clients added as a dependency\n",
      "org.apache.commons#commons-pool2 added as a dependency\n",
      "com.clickhouse#clickhouse-jdbc added as a dependency\n",
      ":: resolving dependencies :: org.apache.spark#spark-submit-parent-920f6be9-18fe-4560-8858-87bed8a74f0c;1.0\n",
      "\tconfs: [default]\n",
      "\tfound org.apache.spark#spark-sql-kafka-0-10_2.12;3.5.1 in central\n",
      "\tfound org.apache.spark#spark-token-provider-kafka-0-10_2.12;3.5.1 in central\n",
      "\tfound org.apache.hadoop#hadoop-client-runtime;3.3.4 in central\n",
      "\tfound org.apache.hadoop#hadoop-client-api;3.3.4 in central\n",
      "\tfound org.xerial.snappy#snappy-java;1.1.10.3 in central\n",
      "\tfound org.slf4j#slf4j-api;2.0.7 in central\n",
      "\tfound commons-logging#commons-logging;1.1.3 in central\n",
      "\tfound com.google.code.findbugs#jsr305;3.0.0 in central\n",
      "\tfound org.apache.commons#commons-pool2;2.11.1 in central\n",
      "\tfound org.apache.kafka#kafka-clients;3.5.1 in central\n",
      "\tfound com.github.luben#zstd-jni;1.5.5-1 in central\n",
      "\tfound org.lz4#lz4-java;1.8.0 in central\n",
      "\tfound com.clickhouse#clickhouse-jdbc;0.7.2 in central\n",
      "\tfound com.clickhouse#clickhouse-client;0.7.2 in central\n",
      "\tfound com.clickhouse#clickhouse-data;0.7.2 in central\n",
      "\tfound com.clickhouse#clickhouse-http-client;0.7.2 in central\n",
      "\tfound org.apache.httpcomponents.core5#httpcore5-h2;5.2 in central\n",
      "\tfound org.apache.httpcomponents.client5#httpclient5;5.2.1 in central\n",
      "\tfound org.apache.httpcomponents.core5#httpcore5;5.2.1 in central\n",
      "\tfound org.apache.commons#commons-compress;1.27.1 in central\n",
      "\tfound commons-codec#commons-codec;1.17.1 in central\n",
      "\tfound commons-io#commons-io;2.16.1 in central\n",
      "\tfound org.apache.commons#commons-lang3;3.16.0 in central\n",
      "\tfound org.lz4#lz4-pure-java;1.8.0 in central\n",
      "\tfound com.clickhouse#jdbc-v2;0.7.2 in central\n",
      "\tfound org.roaringbitmap#RoaringBitmap;0.9.47 in central\n",
      "\tfound org.ow2.asm#asm;9.5 in central\n",
      "\tfound com.fasterxml.jackson.core#jackson-core;2.17.2 in central\n",
      "\tfound org.roaringbitmap#shims;0.9.47 in central\n",
      "\tfound com.clickhouse#client-v2;0.7.2 in central\n",
      "downloading https://repo1.maven.org/maven2/org/apache/spark/spark-sql-kafka-0-10_2.12/3.5.1/spark-sql-kafka-0-10_2.12-3.5.1.jar ...\n",
      "\t[SUCCESSFUL ] org.apache.spark#spark-sql-kafka-0-10_2.12;3.5.1!spark-sql-kafka-0-10_2.12.jar (133ms)\n",
      "downloading https://repo1.maven.org/maven2/org/apache/kafka/kafka-clients/3.5.1/kafka-clients-3.5.1.jar ...\n",
      "\t[SUCCESSFUL ] org.apache.kafka#kafka-clients;3.5.1!kafka-clients.jar (516ms)\n",
      "downloading https://repo1.maven.org/maven2/org/apache/commons/commons-pool2/2.11.1/commons-pool2-2.11.1.jar ...\n",
      "\t[SUCCESSFUL ] org.apache.commons#commons-pool2;2.11.1!commons-pool2.jar (88ms)\n",
      "downloading https://repo1.maven.org/maven2/com/clickhouse/clickhouse-jdbc/0.7.2/clickhouse-jdbc-0.7.2.jar ...\n",
      "\t[SUCCESSFUL ] com.clickhouse#clickhouse-jdbc;0.7.2!clickhouse-jdbc.jar (164ms)\n",
      "downloading https://repo1.maven.org/maven2/org/apache/spark/spark-token-provider-kafka-0-10_2.12/3.5.1/spark-token-provider-kafka-0-10_2.12-3.5.1.jar ...\n",
      "\t[SUCCESSFUL ] org.apache.spark#spark-token-provider-kafka-0-10_2.12;3.5.1!spark-token-provider-kafka-0-10_2.12.jar (76ms)\n",
      "downloading https://repo1.maven.org/maven2/com/google/code/findbugs/jsr305/3.0.0/jsr305-3.0.0.jar ...\n",
      "\t[SUCCESSFUL ] com.google.code.findbugs#jsr305;3.0.0!jsr305.jar (74ms)\n",
      "downloading https://repo1.maven.org/maven2/org/apache/hadoop/hadoop-client-runtime/3.3.4/hadoop-client-runtime-3.3.4.jar ...\n",
      "\t[SUCCESSFUL ] org.apache.hadoop#hadoop-client-runtime;3.3.4!hadoop-client-runtime.jar (2637ms)\n",
      "downloading https://repo1.maven.org/maven2/org/apache/hadoop/hadoop-client-api/3.3.4/hadoop-client-api-3.3.4.jar ...\n",
      "\t[SUCCESSFUL ] org.apache.hadoop#hadoop-client-api;3.3.4!hadoop-client-api.jar (1736ms)\n",
      "downloading https://repo1.maven.org/maven2/org/xerial/snappy/snappy-java/1.1.10.3/snappy-java-1.1.10.3.jar ...\n",
      "\t[SUCCESSFUL ] org.xerial.snappy#snappy-java;1.1.10.3!snappy-java.jar(bundle) (259ms)\n",
      "downloading https://repo1.maven.org/maven2/org/slf4j/slf4j-api/2.0.7/slf4j-api-2.0.7.jar ...\n",
      "\t[SUCCESSFUL ] org.slf4j#slf4j-api;2.0.7!slf4j-api.jar (93ms)\n",
      "downloading https://repo1.maven.org/maven2/commons-logging/commons-logging/1.1.3/commons-logging-1.1.3.jar ...\n",
      "\t[SUCCESSFUL ] commons-logging#commons-logging;1.1.3!commons-logging.jar (88ms)\n",
      "downloading https://repo1.maven.org/maven2/com/github/luben/zstd-jni/1.5.5-1/zstd-jni-1.5.5-1.jar ...\n",
      "\t[SUCCESSFUL ] com.github.luben#zstd-jni;1.5.5-1!zstd-jni.jar (583ms)\n",
      "downloading https://repo1.maven.org/maven2/org/lz4/lz4-java/1.8.0/lz4-java-1.8.0.jar ...\n",
      "\t[SUCCESSFUL ] org.lz4#lz4-java;1.8.0!lz4-java.jar (117ms)\n",
      "downloading https://repo1.maven.org/maven2/com/clickhouse/clickhouse-client/0.7.2/clickhouse-client-0.7.2.jar ...\n",
      "\t[SUCCESSFUL ] com.clickhouse#clickhouse-client;0.7.2!clickhouse-client.jar (76ms)\n",
      "downloading https://repo1.maven.org/maven2/com/clickhouse/clickhouse-data/0.7.2/clickhouse-data-0.7.2.jar ...\n",
      "\t[SUCCESSFUL ] com.clickhouse#clickhouse-data;0.7.2!clickhouse-data.jar (115ms)\n",
      "downloading https://repo1.maven.org/maven2/com/clickhouse/clickhouse-http-client/0.7.2/clickhouse-http-client-0.7.2.jar ...\n",
      "\t[SUCCESSFUL ] com.clickhouse#clickhouse-http-client;0.7.2!clickhouse-http-client.jar (72ms)\n",
      "downloading https://repo1.maven.org/maven2/org/apache/httpcomponents/client5/httpclient5/5.2.1/httpclient5-5.2.1.jar ...\n",
      "\t[SUCCESSFUL ] org.apache.httpcomponents.client5#httpclient5;5.2.1!httpclient5.jar (139ms)\n",
      "downloading https://repo1.maven.org/maven2/org/apache/httpcomponents/core5/httpcore5-h2/5.2/httpcore5-h2-5.2.jar ...\n",
      "\t[SUCCESSFUL ] org.apache.httpcomponents.core5#httpcore5-h2;5.2!httpcore5-h2.jar (78ms)\n",
      "downloading https://repo1.maven.org/maven2/org/apache/httpcomponents/core5/httpcore5/5.2.1/httpcore5-5.2.1.jar ...\n",
      "\t[SUCCESSFUL ] org.apache.httpcomponents.core5#httpcore5;5.2.1!httpcore5.jar (132ms)\n",
      "downloading https://repo1.maven.org/maven2/org/apache/commons/commons-compress/1.27.1/commons-compress-1.27.1.jar ...\n",
      "\t[SUCCESSFUL ] org.apache.commons#commons-compress;1.27.1!commons-compress.jar (153ms)\n",
      "downloading https://repo1.maven.org/maven2/commons-codec/commons-codec/1.17.1/commons-codec-1.17.1.jar ...\n",
      "\t[SUCCESSFUL ] commons-codec#commons-codec;1.17.1!commons-codec.jar (95ms)\n",
      "downloading https://repo1.maven.org/maven2/commons-io/commons-io/2.16.1/commons-io-2.16.1.jar ...\n",
      "\t[SUCCESSFUL ] commons-io#commons-io;2.16.1!commons-io.jar (101ms)\n",
      "downloading https://repo1.maven.org/maven2/org/apache/commons/commons-lang3/3.16.0/commons-lang3-3.16.0.jar ...\n",
      "\t[SUCCESSFUL ] org.apache.commons#commons-lang3;3.16.0!commons-lang3.jar (118ms)\n",
      "downloading https://repo1.maven.org/maven2/org/lz4/lz4-pure-java/1.8.0/lz4-pure-java-1.8.0.jar ...\n",
      "\t[SUCCESSFUL ] org.lz4#lz4-pure-java;1.8.0!lz4-pure-java.jar (84ms)\n",
      "downloading https://repo1.maven.org/maven2/com/clickhouse/jdbc-v2/0.7.2/jdbc-v2-0.7.2.jar ...\n",
      "\t[SUCCESSFUL ] com.clickhouse#jdbc-v2;0.7.2!jdbc-v2.jar (158ms)\n",
      "downloading https://repo1.maven.org/maven2/com/clickhouse/client-v2/0.7.2/client-v2-0.7.2.jar ...\n",
      "\t[SUCCESSFUL ] com.clickhouse#client-v2;0.7.2!client-v2.jar (102ms)\n",
      "downloading https://repo1.maven.org/maven2/org/roaringbitmap/RoaringBitmap/0.9.47/RoaringBitmap-0.9.47.jar ...\n",
      "\t[SUCCESSFUL ] org.roaringbitmap#RoaringBitmap;0.9.47!RoaringBitmap.jar (101ms)\n",
      "downloading https://repo1.maven.org/maven2/org/ow2/asm/asm/9.5/asm-9.5.jar ...\n",
      "\t[SUCCESSFUL ] org.ow2.asm#asm;9.5!asm.jar (80ms)\n",
      "downloading https://repo1.maven.org/maven2/com/fasterxml/jackson/core/jackson-core/2.17.2/jackson-core-2.17.2.jar ...\n",
      "\t[SUCCESSFUL ] com.fasterxml.jackson.core#jackson-core;2.17.2!jackson-core.jar (108ms)\n",
      "downloading https://repo1.maven.org/maven2/org/roaringbitmap/shims/0.9.47/shims-0.9.47.jar ...\n",
      "\t[SUCCESSFUL ] org.roaringbitmap#shims;0.9.47!shims.jar (73ms)\n",
      ":: resolution report :: resolve 16975ms :: artifacts dl 8381ms\n",
      "\t:: modules in use:\n",
      "\tcom.clickhouse#clickhouse-client;0.7.2 from central in [default]\n",
      "\tcom.clickhouse#clickhouse-data;0.7.2 from central in [default]\n",
      "\tcom.clickhouse#clickhouse-http-client;0.7.2 from central in [default]\n",
      "\tcom.clickhouse#clickhouse-jdbc;0.7.2 from central in [default]\n",
      "\tcom.clickhouse#client-v2;0.7.2 from central in [default]\n",
      "\tcom.clickhouse#jdbc-v2;0.7.2 from central in [default]\n",
      "\tcom.fasterxml.jackson.core#jackson-core;2.17.2 from central in [default]\n",
      "\tcom.github.luben#zstd-jni;1.5.5-1 from central in [default]\n",
      "\tcom.google.code.findbugs#jsr305;3.0.0 from central in [default]\n",
      "\tcommons-codec#commons-codec;1.17.1 from central in [default]\n",
      "\tcommons-io#commons-io;2.16.1 from central in [default]\n",
      "\tcommons-logging#commons-logging;1.1.3 from central in [default]\n",
      "\torg.apache.commons#commons-compress;1.27.1 from central in [default]\n",
      "\torg.apache.commons#commons-lang3;3.16.0 from central in [default]\n",
      "\torg.apache.commons#commons-pool2;2.11.1 from central in [default]\n",
      "\torg.apache.hadoop#hadoop-client-api;3.3.4 from central in [default]\n",
      "\torg.apache.hadoop#hadoop-client-runtime;3.3.4 from central in [default]\n",
      "\torg.apache.httpcomponents.client5#httpclient5;5.2.1 from central in [default]\n",
      "\torg.apache.httpcomponents.core5#httpcore5;5.2.1 from central in [default]\n",
      "\torg.apache.httpcomponents.core5#httpcore5-h2;5.2 from central in [default]\n",
      "\torg.apache.kafka#kafka-clients;3.5.1 from central in [default]\n",
      "\torg.apache.spark#spark-sql-kafka-0-10_2.12;3.5.1 from central in [default]\n",
      "\torg.apache.spark#spark-token-provider-kafka-0-10_2.12;3.5.1 from central in [default]\n",
      "\torg.lz4#lz4-java;1.8.0 from central in [default]\n",
      "\torg.lz4#lz4-pure-java;1.8.0 from central in [default]\n",
      "\torg.ow2.asm#asm;9.5 from central in [default]\n",
      "\torg.roaringbitmap#RoaringBitmap;0.9.47 from central in [default]\n",
      "\torg.roaringbitmap#shims;0.9.47 from central in [default]\n",
      "\torg.slf4j#slf4j-api;2.0.7 from central in [default]\n",
      "\torg.xerial.snappy#snappy-java;1.1.10.3 from central in [default]\n",
      "\t:: evicted modules:\n",
      "\torg.apache.kafka#kafka-clients;3.4.1 by [org.apache.kafka#kafka-clients;3.5.1] in [default]\n",
      "\torg.xerial.snappy#snappy-java;1.1.10.1 by [org.xerial.snappy#snappy-java;1.1.10.3] in [default]\n",
      "\torg.slf4j#slf4j-api;1.7.36 by [org.slf4j#slf4j-api;2.0.7] in [default]\n",
      "\torg.apache.httpcomponents.core5#httpcore5;5.2.4 by [org.apache.httpcomponents.core5#httpcore5;5.2.1] in [default]\n",
      "\torg.apache.httpcomponents.core5#httpcore5-h2;5.2.4 by [org.apache.httpcomponents.core5#httpcore5-h2;5.2] in [default]\n",
      "\t---------------------------------------------------------------------\n",
      "\t|                  |            modules            ||   artifacts   |\n",
      "\t|       conf       | number| search|dwnlded|evicted|| number|dwnlded|\n",
      "\t---------------------------------------------------------------------\n",
      "\t|      default     |   35  |   30  |   30  |   5   ||   30  |   30  |\n",
      "\t---------------------------------------------------------------------\n",
      ":: retrieving :: org.apache.spark#spark-submit-parent-920f6be9-18fe-4560-8858-87bed8a74f0c\n",
      "\tconfs: [default]\n",
      "\t30 artifacts copied, 0 already retrieved (71448kB/121ms)\n",
      "25/10/22 00:16:42 WARN NativeCodeLoader: Unable to load native-hadoop library for your platform... using builtin-java classes where applicable\n",
      "Setting default log level to \"WARN\".\n",
      "To adjust logging level use sc.setLogLevel(newLevel). For SparkR, use setLogLevel(newLevel).\n"
     ]
    }
   ],
   "source": [
    "from pyspark.sql import SparkSession\n",
    "\n",
    "spark = (\n",
    "    SparkSession.builder\n",
    "    .appName(\"kafka_to_clickhouse\") \n",
    "    .master(\"spark://spark-master:7077\")\n",
    "    .config(\"spark.jars.packages\", \n",
    "            \"org.apache.spark:spark-sql-kafka-0-10_2.12:3.5.1,\"\n",
    "            \"org.apache.kafka:kafka-clients:3.5.1,\"\n",
    "            \"org.apache.commons:commons-pool2:2.11.1,\"\n",
    "            \"com.clickhouse:clickhouse-jdbc:0.7.2\" # с версиями 0.8.x и более не работает\n",
    "           )\n",
    "    .config(\"spark.sql.streaming.checkpointLocation\", \"/tmp/checkpoint\")\n",
    "    # Чтобы сессия не занимала все воркеры\n",
    "    .config(\"spark.cores.max\", \"3\")\n",
    "    .getOrCreate()\n",
    ")"
   ]
  },
  {
   "cell_type": "markdown",
   "id": "a397b4d9-570b-4ca0-9277-9bed68f7fcbc",
   "metadata": {},
   "source": [
    "## Подготовка таблицы в ClickHouse"
   ]
  },
  {
   "cell_type": "markdown",
   "id": "642d92a1-0fdd-4f49-8ad8-97e0530b970c",
   "metadata": {},
   "source": [
    "Выполним DDL-запрос по адресу http://localhost:8123/play\n",
    "```sql\n",
    "CREATE TABLE IF NOT EXISTS default.streaming_test_table\n",
    "(\n",
    "    id String,\n",
    "    name String,\n",
    "    timestamp String,\n",
    "    kafka_timestamp DateTime64(3),\n",
    "    processed_at DateTime64(3)\n",
    ")\n",
    "ENGINE = MergeTree()\n",
    "ORDER BY (processed_at, id)\n",
    "PARTITION BY toYYYYMM(processed_at);\n",
    "```\n"
   ]
  },
  {
   "cell_type": "markdown",
   "id": "ae474f2a-9642-43e2-8831-557ac127c319",
   "metadata": {},
   "source": [
    "## Начнем запись в Kafka"
   ]
  },
  {
   "cell_type": "markdown",
   "id": "54227740-d0a0-4f65-8edc-7c3bbc593536",
   "metadata": {},
   "source": [
    "Создадим новый ```test_topic``` в Kafka (подключен kafka-ui по адресу http://localhost:8090)"
   ]
  },
  {
   "cell_type": "markdown",
   "id": "3a3232ec-a158-4de7-95c6-4cb66b2d77ac",
   "metadata": {},
   "source": [
    "Выполним ```python3 main.py``` в терминале"
   ]
  },
  {
   "cell_type": "markdown",
   "id": "8e5ccdbe-96ae-4905-b99d-136a8d82b6f6",
   "metadata": {},
   "source": [
    "## Запускаем стриминг (микробатчинг)"
   ]
  },
  {
   "cell_type": "code",
   "execution_count": 5,
   "id": "29e65054-744e-4c4b-8e43-f5779866fa2f",
   "metadata": {},
   "outputs": [],
   "source": [
    "from pyspark.sql.functions import from_json, col, current_timestamp\n",
    "from pyspark.sql.types import StructType, StructField, StringType\n",
    "\n",
    "schema = StructType([\n",
    "    StructField(\"id\", StringType(), True),\n",
    "    StructField(\"name\", StringType(), True),\n",
    "    StructField(\"timestamp\", StringType(), True)\n",
    "])\n",
    "\n",
    "kafka_df = (\n",
    "    spark.readStream\n",
    "    .format(\"kafka\")\n",
    "    .option(\"kafka.bootstrap.servers\", \"kafka:9092\")\n",
    "    .option(\"subscribe\", \"test_topic\")\n",
    "    .option(\"startingOffsets\", \"earliest\")\n",
    "    .load()\n",
    ")\n",
    "\n",
    "parsed_df = kafka_df.select(\n",
    "    from_json(col(\"value\").cast(\"string\"), schema).alias(\"data\"),\n",
    "    col(\"timestamp\").alias(\"kafka_timestamp\")\n",
    ").select(\"data.*\", \"kafka_timestamp\")\n",
    "\n",
    "processed_df = parsed_df.withColumn(\"processed_at\", current_timestamp())"
   ]
  },
  {
   "cell_type": "code",
   "execution_count": null,
   "id": "acfecd52-f20e-4047-ae04-ce800dd72e67",
   "metadata": {},
   "outputs": [
    {
     "name": "stderr",
     "output_type": "stream",
     "text": [
      "25/10/22 00:18:43 WARN ResolveWriteToStream: spark.sql.adaptive.enabled is not supported in streaming DataFrames/Datasets and will be disabled.\n"
     ]
    },
    {
     "name": "stdout",
     "output_type": "stream",
     "text": [
      "Batch 0 is empty, skipping\n"
     ]
    },
    {
     "name": "stderr",
     "output_type": "stream",
     "text": [
      "                                                                                \r"
     ]
    },
    {
     "name": "stdout",
     "output_type": "stream",
     "text": [
      "\n",
      "Processing batch 1 with 1 records\n"
     ]
    },
    {
     "name": "stderr",
     "output_type": "stream",
     "text": [
      "                                                                                \r"
     ]
    },
    {
     "name": "stdout",
     "output_type": "stream",
     "text": [
      "Batch 1 written successfully to ClickHouse\n"
     ]
    },
    {
     "name": "stderr",
     "output_type": "stream",
     "text": [
      "                                                                                \r"
     ]
    },
    {
     "name": "stdout",
     "output_type": "stream",
     "text": [
      "\n",
      "Processing batch 2 with 5 records\n"
     ]
    },
    {
     "name": "stderr",
     "output_type": "stream",
     "text": [
      "                                                                                \r"
     ]
    },
    {
     "name": "stdout",
     "output_type": "stream",
     "text": [
      "Batch 2 written successfully to ClickHouse\n"
     ]
    },
    {
     "name": "stderr",
     "output_type": "stream",
     "text": [
      "                                                                                \r"
     ]
    },
    {
     "name": "stdout",
     "output_type": "stream",
     "text": [
      "\n",
      "Processing batch 3 with 1 records\n",
      "Batch 3 written successfully to ClickHouse\n"
     ]
    },
    {
     "name": "stderr",
     "output_type": "stream",
     "text": [
      "                                                                                \r"
     ]
    },
    {
     "name": "stdout",
     "output_type": "stream",
     "text": [
      "\n",
      "Processing batch 4 with 1 records\n"
     ]
    },
    {
     "name": "stderr",
     "output_type": "stream",
     "text": [
      "                                                                                \r"
     ]
    },
    {
     "name": "stdout",
     "output_type": "stream",
     "text": [
      "Batch 4 written successfully to ClickHouse\n",
      "\n",
      "Processing batch 5 with 2 records\n"
     ]
    },
    {
     "name": "stderr",
     "output_type": "stream",
     "text": [
      "                                                                                \r"
     ]
    },
    {
     "name": "stdout",
     "output_type": "stream",
     "text": [
      "Batch 5 written successfully to ClickHouse\n",
      "\n",
      "Processing batch 6 with 1 records\n"
     ]
    },
    {
     "name": "stderr",
     "output_type": "stream",
     "text": [
      "                                                                                \r"
     ]
    },
    {
     "name": "stdout",
     "output_type": "stream",
     "text": [
      "Batch 6 written successfully to ClickHouse\n"
     ]
    },
    {
     "name": "stderr",
     "output_type": "stream",
     "text": [
      "                                                                                \r"
     ]
    },
    {
     "name": "stdout",
     "output_type": "stream",
     "text": [
      "\n",
      "Processing batch 7 with 1 records\n"
     ]
    },
    {
     "name": "stderr",
     "output_type": "stream",
     "text": [
      "                                                                                \r"
     ]
    },
    {
     "name": "stdout",
     "output_type": "stream",
     "text": [
      "Batch 7 written successfully to ClickHouse\n"
     ]
    },
    {
     "name": "stderr",
     "output_type": "stream",
     "text": [
      "                                                                                \r"
     ]
    },
    {
     "name": "stdout",
     "output_type": "stream",
     "text": [
      "\n",
      "Processing batch 8 with 1 records\n"
     ]
    },
    {
     "name": "stderr",
     "output_type": "stream",
     "text": [
      "                                                                                \r"
     ]
    },
    {
     "name": "stdout",
     "output_type": "stream",
     "text": [
      "Batch 8 written successfully to ClickHouse\n"
     ]
    },
    {
     "name": "stderr",
     "output_type": "stream",
     "text": [
      "                                                                                \r"
     ]
    },
    {
     "name": "stdout",
     "output_type": "stream",
     "text": [
      "\n",
      "Processing batch 9 with 1 records\n",
      "Batch 9 written successfully to ClickHouse\n"
     ]
    },
    {
     "name": "stderr",
     "output_type": "stream",
     "text": [
      "                                                                                \r"
     ]
    },
    {
     "name": "stdout",
     "output_type": "stream",
     "text": [
      "\n",
      "Processing batch 10 with 1 records\n"
     ]
    },
    {
     "name": "stderr",
     "output_type": "stream",
     "text": [
      "                                                                                \r"
     ]
    },
    {
     "name": "stdout",
     "output_type": "stream",
     "text": [
      "Batch 10 written successfully to ClickHouse\n",
      "\n",
      "Processing batch 11 with 1 records\n",
      "Batch 11 written successfully to ClickHouse\n",
      "\n",
      "Processing batch 12 with 1 records\n",
      "Batch 12 written successfully to ClickHouse\n",
      "\n",
      "Processing batch 13 with 1 records\n"
     ]
    },
    {
     "name": "stderr",
     "output_type": "stream",
     "text": [
      "                                                                                \r"
     ]
    },
    {
     "name": "stdout",
     "output_type": "stream",
     "text": [
      "Batch 13 written successfully to ClickHouse\n"
     ]
    },
    {
     "name": "stderr",
     "output_type": "stream",
     "text": [
      "                                                                                \r"
     ]
    },
    {
     "name": "stdout",
     "output_type": "stream",
     "text": [
      "\n",
      "Processing batch 14 with 1 records\n",
      "Batch 14 written successfully to ClickHouse\n",
      "\n",
      "Processing batch 15 with 1 records\n",
      "Batch 15 written successfully to ClickHouse\n",
      "\n",
      "Processing batch 16 with 1 records\n",
      "Batch 16 written successfully to ClickHouse\n",
      "\n",
      "Processing batch 17 with 1 records\n"
     ]
    },
    {
     "name": "stderr",
     "output_type": "stream",
     "text": [
      "                                                                                \r"
     ]
    },
    {
     "name": "stdout",
     "output_type": "stream",
     "text": [
      "Batch 17 written successfully to ClickHouse\n"
     ]
    },
    {
     "name": "stderr",
     "output_type": "stream",
     "text": [
      "                                                                                \r"
     ]
    },
    {
     "name": "stdout",
     "output_type": "stream",
     "text": [
      "\n",
      "Processing batch 18 with 1 records\n",
      "Batch 18 written successfully to ClickHouse\n",
      "\n",
      "Processing batch 19 with 1 records\n",
      "Batch 19 written successfully to ClickHouse\n",
      "\n",
      "Processing batch 20 with 1 records\n",
      "Batch 20 written successfully to ClickHouse\n",
      "\n",
      "Processing batch 21 with 1 records\n",
      "Batch 21 written successfully to ClickHouse\n"
     ]
    },
    {
     "name": "stderr",
     "output_type": "stream",
     "text": [
      "                                                                                \r"
     ]
    },
    {
     "name": "stdout",
     "output_type": "stream",
     "text": [
      "\n",
      "Processing batch 22 with 1 records\n"
     ]
    },
    {
     "name": "stderr",
     "output_type": "stream",
     "text": [
      "                                                                                \r"
     ]
    },
    {
     "name": "stdout",
     "output_type": "stream",
     "text": [
      "Batch 22 written successfully to ClickHouse\n",
      "\n",
      "Processing batch 23 with 1 records\n"
     ]
    },
    {
     "name": "stderr",
     "output_type": "stream",
     "text": [
      "                                                                                \r"
     ]
    },
    {
     "name": "stdout",
     "output_type": "stream",
     "text": [
      "Batch 23 written successfully to ClickHouse\n"
     ]
    },
    {
     "name": "stderr",
     "output_type": "stream",
     "text": [
      "                                                                                \r"
     ]
    },
    {
     "name": "stdout",
     "output_type": "stream",
     "text": [
      "\n",
      "Processing batch 24 with 1 records\n",
      "Batch 24 written successfully to ClickHouse\n",
      "\n",
      "Processing batch 25 with 1 records\n"
     ]
    },
    {
     "name": "stderr",
     "output_type": "stream",
     "text": [
      "                                                                                \r"
     ]
    },
    {
     "name": "stdout",
     "output_type": "stream",
     "text": [
      "Batch 25 written successfully to ClickHouse\n",
      "\n",
      "Processing batch 26 with 1 records\n",
      "Batch 26 written successfully to ClickHouse\n",
      "\n",
      "Processing batch 27 with 1 records\n"
     ]
    },
    {
     "name": "stderr",
     "output_type": "stream",
     "text": [
      "                                                                                \r"
     ]
    },
    {
     "name": "stdout",
     "output_type": "stream",
     "text": [
      "Batch 27 written successfully to ClickHouse\n",
      "\n",
      "Processing batch 28 with 1 records\n",
      "Batch 28 written successfully to ClickHouse\n",
      "\n",
      "Processing batch 29 with 1 records\n",
      "Batch 29 written successfully to ClickHouse\n",
      "\n",
      "Processing batch 30 with 1 records\n",
      "Batch 30 written successfully to ClickHouse\n",
      "\n",
      "Processing batch 31 with 1 records\n",
      "Batch 31 written successfully to ClickHouse\n",
      "\n",
      "Processing batch 32 with 1 records\n",
      "Batch 32 written successfully to ClickHouse\n"
     ]
    },
    {
     "name": "stderr",
     "output_type": "stream",
     "text": [
      "                                                                                \r"
     ]
    },
    {
     "name": "stdout",
     "output_type": "stream",
     "text": [
      "\n",
      "Processing batch 33 with 1 records\n"
     ]
    },
    {
     "name": "stderr",
     "output_type": "stream",
     "text": [
      "                                                                                \r"
     ]
    },
    {
     "name": "stdout",
     "output_type": "stream",
     "text": [
      "Batch 33 written successfully to ClickHouse\n",
      "\n",
      "Processing batch 34 with 1 records\n"
     ]
    },
    {
     "name": "stderr",
     "output_type": "stream",
     "text": [
      "                                                                                \r"
     ]
    },
    {
     "name": "stdout",
     "output_type": "stream",
     "text": [
      "Batch 34 written successfully to ClickHouse\n"
     ]
    },
    {
     "name": "stderr",
     "output_type": "stream",
     "text": [
      "                                                                                \r"
     ]
    },
    {
     "name": "stdout",
     "output_type": "stream",
     "text": [
      "\n",
      "Processing batch 35 with 1 records\n",
      "Batch 35 written successfully to ClickHouse\n",
      "\n",
      "Processing batch 36 with 1 records\n"
     ]
    },
    {
     "name": "stderr",
     "output_type": "stream",
     "text": [
      "                                                                                \r"
     ]
    },
    {
     "name": "stdout",
     "output_type": "stream",
     "text": [
      "Batch 36 written successfully to ClickHouse\n",
      "\n",
      "Processing batch 37 with 1 records\n"
     ]
    },
    {
     "name": "stderr",
     "output_type": "stream",
     "text": [
      "                                                                                \r"
     ]
    },
    {
     "name": "stdout",
     "output_type": "stream",
     "text": [
      "Batch 37 written successfully to ClickHouse\n"
     ]
    },
    {
     "name": "stderr",
     "output_type": "stream",
     "text": [
      "                                                                                \r"
     ]
    },
    {
     "name": "stdout",
     "output_type": "stream",
     "text": [
      "\n",
      "Processing batch 38 with 1 records\n"
     ]
    },
    {
     "name": "stderr",
     "output_type": "stream",
     "text": [
      "                                                                                \r"
     ]
    },
    {
     "name": "stdout",
     "output_type": "stream",
     "text": [
      "Batch 38 written successfully to ClickHouse\n",
      "\n",
      "Processing batch 39 with 1 records\n",
      "Batch 39 written successfully to ClickHouse\n",
      "\n",
      "Processing batch 40 with 1 records\n"
     ]
    },
    {
     "name": "stderr",
     "output_type": "stream",
     "text": [
      "                                                                                \r"
     ]
    },
    {
     "name": "stdout",
     "output_type": "stream",
     "text": [
      "Batch 40 written successfully to ClickHouse\n"
     ]
    },
    {
     "name": "stderr",
     "output_type": "stream",
     "text": [
      "                                                                                \r"
     ]
    },
    {
     "name": "stdout",
     "output_type": "stream",
     "text": [
      "\n",
      "Processing batch 41 with 1 records\n",
      "Batch 41 written successfully to ClickHouse\n"
     ]
    },
    {
     "name": "stderr",
     "output_type": "stream",
     "text": [
      "                                                                                \r"
     ]
    },
    {
     "name": "stdout",
     "output_type": "stream",
     "text": [
      "\n",
      "Processing batch 42 with 1 records\n",
      "Batch 42 written successfully to ClickHouse\n",
      "\n",
      "Processing batch 43 with 1 records\n",
      "Batch 43 written successfully to ClickHouse\n",
      "\n",
      "Processing batch 44 with 1 records\n",
      "Batch 44 written successfully to ClickHouse\n"
     ]
    },
    {
     "name": "stderr",
     "output_type": "stream",
     "text": [
      "                                                                                \r"
     ]
    },
    {
     "name": "stdout",
     "output_type": "stream",
     "text": [
      "\n",
      "Processing batch 45 with 1 records\n",
      "Batch 45 written successfully to ClickHouse\n",
      "\n",
      "Processing batch 46 with 1 records\n",
      "Batch 46 written successfully to ClickHouse\n",
      "\n",
      "Processing batch 47 with 1 records\n",
      "Batch 47 written successfully to ClickHouse\n",
      "\n",
      "Processing batch 48 with 1 records\n",
      "Batch 48 written successfully to ClickHouse\n",
      "\n",
      "Processing batch 49 with 1 records\n"
     ]
    },
    {
     "name": "stderr",
     "output_type": "stream",
     "text": [
      "                                                                                \r"
     ]
    },
    {
     "name": "stdout",
     "output_type": "stream",
     "text": [
      "Batch 49 written successfully to ClickHouse\n",
      "\n",
      "Processing batch 50 with 1 records\n",
      "Batch 50 written successfully to ClickHouse\n"
     ]
    },
    {
     "name": "stderr",
     "output_type": "stream",
     "text": [
      "                                                                                \r"
     ]
    },
    {
     "name": "stdout",
     "output_type": "stream",
     "text": [
      "\n",
      "Processing batch 51 with 1 records\n",
      "Batch 51 written successfully to ClickHouse\n",
      "\n",
      "Processing batch 52 with 1 records\n",
      "Batch 52 written successfully to ClickHouse\n",
      "\n",
      "Processing batch 53 with 1 records\n",
      "Batch 53 written successfully to ClickHouse\n",
      "\n",
      "Processing batch 54 with 1 records\n"
     ]
    },
    {
     "name": "stderr",
     "output_type": "stream",
     "text": [
      "                                                                                \r"
     ]
    },
    {
     "name": "stdout",
     "output_type": "stream",
     "text": [
      "Batch 54 written successfully to ClickHouse\n",
      "\n",
      "Processing batch 55 with 1 records\n"
     ]
    },
    {
     "name": "stderr",
     "output_type": "stream",
     "text": [
      "                                                                                \r"
     ]
    },
    {
     "name": "stdout",
     "output_type": "stream",
     "text": [
      "Batch 55 written successfully to ClickHouse\n"
     ]
    },
    {
     "name": "stderr",
     "output_type": "stream",
     "text": [
      "                                                                                \r"
     ]
    },
    {
     "name": "stdout",
     "output_type": "stream",
     "text": [
      "\n",
      "Processing batch 56 with 1 records\n",
      "Batch 56 written successfully to ClickHouse\n",
      "\n",
      "Processing batch 57 with 1 records\n",
      "Batch 57 written successfully to ClickHouse\n",
      "\n",
      "Processing batch 58 with 1 records\n",
      "Batch 58 written successfully to ClickHouse\n",
      "\n",
      "Processing batch 59 with 1 records\n"
     ]
    },
    {
     "name": "stderr",
     "output_type": "stream",
     "text": [
      "                                                                                \r"
     ]
    },
    {
     "name": "stdout",
     "output_type": "stream",
     "text": [
      "Batch 59 written successfully to ClickHouse\n",
      "\n",
      "Processing batch 60 with 1 records\n"
     ]
    },
    {
     "name": "stderr",
     "output_type": "stream",
     "text": [
      "                                                                                \r"
     ]
    },
    {
     "name": "stdout",
     "output_type": "stream",
     "text": [
      "Batch 60 written successfully to ClickHouse\n",
      "\n",
      "Processing batch 61 with 1 records\n",
      "Batch 61 written successfully to ClickHouse\n",
      "\n",
      "Processing batch 62 with 1 records\n"
     ]
    },
    {
     "name": "stderr",
     "output_type": "stream",
     "text": [
      "                                                                                \r"
     ]
    },
    {
     "name": "stdout",
     "output_type": "stream",
     "text": [
      "Batch 62 written successfully to ClickHouse\n"
     ]
    },
    {
     "name": "stderr",
     "output_type": "stream",
     "text": [
      "                                                                                \r"
     ]
    },
    {
     "name": "stdout",
     "output_type": "stream",
     "text": [
      "\n",
      "Processing batch 63 with 1 records\n"
     ]
    },
    {
     "name": "stderr",
     "output_type": "stream",
     "text": [
      "                                                                                \r"
     ]
    },
    {
     "name": "stdout",
     "output_type": "stream",
     "text": [
      "Batch 63 written successfully to ClickHouse\n"
     ]
    },
    {
     "name": "stderr",
     "output_type": "stream",
     "text": [
      "                                                                                \r"
     ]
    },
    {
     "name": "stdout",
     "output_type": "stream",
     "text": [
      "\n",
      "Processing batch 64 with 1 records\n"
     ]
    },
    {
     "name": "stderr",
     "output_type": "stream",
     "text": [
      "                                                                                \r"
     ]
    },
    {
     "name": "stdout",
     "output_type": "stream",
     "text": [
      "Batch 64 written successfully to ClickHouse\n",
      "\n",
      "Processing batch 65 with 1 records\n"
     ]
    },
    {
     "name": "stderr",
     "output_type": "stream",
     "text": [
      "                                                                                \r"
     ]
    },
    {
     "name": "stdout",
     "output_type": "stream",
     "text": [
      "Batch 65 written successfully to ClickHouse\n"
     ]
    },
    {
     "name": "stderr",
     "output_type": "stream",
     "text": [
      "                                                                                \r"
     ]
    },
    {
     "name": "stdout",
     "output_type": "stream",
     "text": [
      "\n",
      "Processing batch 66 with 1 records\n",
      "Batch 66 written successfully to ClickHouse\n"
     ]
    },
    {
     "name": "stderr",
     "output_type": "stream",
     "text": [
      "                                                                                \r"
     ]
    },
    {
     "name": "stdout",
     "output_type": "stream",
     "text": [
      "\n",
      "Processing batch 67 with 1 records\n",
      "Batch 67 written successfully to ClickHouse\n",
      "\n",
      "Processing batch 68 with 1 records\n",
      "Batch 68 written successfully to ClickHouse\n",
      "\n",
      "Processing batch 69 with 1 records\n",
      "Batch 69 written successfully to ClickHouse\n",
      "\n",
      "Processing batch 70 with 1 records\n",
      "Batch 70 written successfully to ClickHouse\n"
     ]
    },
    {
     "name": "stderr",
     "output_type": "stream",
     "text": [
      "                                                                                \r"
     ]
    },
    {
     "name": "stdout",
     "output_type": "stream",
     "text": [
      "\n",
      "Processing batch 71 with 1 records\n"
     ]
    },
    {
     "name": "stderr",
     "output_type": "stream",
     "text": [
      "                                                                                \r"
     ]
    },
    {
     "name": "stdout",
     "output_type": "stream",
     "text": [
      "Batch 71 written successfully to ClickHouse\n"
     ]
    },
    {
     "name": "stderr",
     "output_type": "stream",
     "text": [
      "                                                                                \r"
     ]
    },
    {
     "name": "stdout",
     "output_type": "stream",
     "text": [
      "\n",
      "Processing batch 72 with 1 records\n",
      "Batch 72 written successfully to ClickHouse\n"
     ]
    },
    {
     "name": "stderr",
     "output_type": "stream",
     "text": [
      "                                                                                \r"
     ]
    },
    {
     "name": "stdout",
     "output_type": "stream",
     "text": [
      "\n",
      "Processing batch 73 with 1 records\n",
      "Batch 73 written successfully to ClickHouse\n"
     ]
    },
    {
     "name": "stderr",
     "output_type": "stream",
     "text": [
      "                                                                                \r"
     ]
    },
    {
     "name": "stdout",
     "output_type": "stream",
     "text": [
      "\n",
      "Processing batch 74 with 1 records\n",
      "Batch 74 written successfully to ClickHouse\n"
     ]
    },
    {
     "name": "stderr",
     "output_type": "stream",
     "text": [
      "                                                                                \r"
     ]
    },
    {
     "name": "stdout",
     "output_type": "stream",
     "text": [
      "\n",
      "Processing batch 75 with 1 records\n",
      "Batch 75 written successfully to ClickHouse\n",
      "\n",
      "Processing batch 76 with 1 records\n"
     ]
    },
    {
     "name": "stderr",
     "output_type": "stream",
     "text": [
      "                                                                                \r"
     ]
    },
    {
     "name": "stdout",
     "output_type": "stream",
     "text": [
      "Batch 76 written successfully to ClickHouse\n",
      "\n",
      "Processing batch 77 with 1 records\n",
      "Batch 77 written successfully to ClickHouse\n",
      "\n",
      "Processing batch 78 with 1 records\n"
     ]
    },
    {
     "name": "stderr",
     "output_type": "stream",
     "text": [
      "                                                                                \r"
     ]
    },
    {
     "name": "stdout",
     "output_type": "stream",
     "text": [
      "Batch 78 written successfully to ClickHouse\n"
     ]
    },
    {
     "name": "stderr",
     "output_type": "stream",
     "text": [
      "                                                                                \r"
     ]
    },
    {
     "name": "stdout",
     "output_type": "stream",
     "text": [
      "\n",
      "Processing batch 79 with 1 records\n"
     ]
    },
    {
     "name": "stderr",
     "output_type": "stream",
     "text": [
      "                                                                                \r"
     ]
    },
    {
     "name": "stdout",
     "output_type": "stream",
     "text": [
      "Batch 79 written successfully to ClickHouse\n"
     ]
    },
    {
     "name": "stderr",
     "output_type": "stream",
     "text": [
      "                                                                                \r"
     ]
    },
    {
     "name": "stdout",
     "output_type": "stream",
     "text": [
      "\n",
      "Processing batch 80 with 1 records\n"
     ]
    },
    {
     "name": "stderr",
     "output_type": "stream",
     "text": [
      "                                                                                \r"
     ]
    },
    {
     "name": "stdout",
     "output_type": "stream",
     "text": [
      "Batch 80 written successfully to ClickHouse\n",
      "\n",
      "Processing batch 81 with 1 records\n"
     ]
    },
    {
     "name": "stderr",
     "output_type": "stream",
     "text": [
      "                                                                                \r"
     ]
    },
    {
     "name": "stdout",
     "output_type": "stream",
     "text": [
      "Batch 81 written successfully to ClickHouse\n"
     ]
    },
    {
     "name": "stderr",
     "output_type": "stream",
     "text": [
      "                                                                                \r"
     ]
    },
    {
     "name": "stdout",
     "output_type": "stream",
     "text": [
      "\n",
      "Processing batch 82 with 1 records\n",
      "Batch 82 written successfully to ClickHouse\n"
     ]
    },
    {
     "name": "stderr",
     "output_type": "stream",
     "text": [
      "                                                                                \r"
     ]
    },
    {
     "name": "stdout",
     "output_type": "stream",
     "text": [
      "\n",
      "Processing batch 83 with 1 records\n",
      "Batch 83 written successfully to ClickHouse\n"
     ]
    },
    {
     "name": "stderr",
     "output_type": "stream",
     "text": [
      "                                                                                \r"
     ]
    },
    {
     "name": "stdout",
     "output_type": "stream",
     "text": [
      "\n",
      "Processing batch 84 with 1 records\n",
      "Batch 84 written successfully to ClickHouse\n"
     ]
    },
    {
     "name": "stderr",
     "output_type": "stream",
     "text": [
      "                                                                                \r"
     ]
    },
    {
     "name": "stdout",
     "output_type": "stream",
     "text": [
      "\n",
      "Processing batch 85 with 1 records\n",
      "Batch 85 written successfully to ClickHouse\n"
     ]
    },
    {
     "name": "stderr",
     "output_type": "stream",
     "text": [
      "                                                                                \r"
     ]
    },
    {
     "name": "stdout",
     "output_type": "stream",
     "text": [
      "\n",
      "Processing batch 86 with 1 records\n"
     ]
    },
    {
     "name": "stderr",
     "output_type": "stream",
     "text": [
      "                                                                                \r"
     ]
    },
    {
     "name": "stdout",
     "output_type": "stream",
     "text": [
      "Batch 86 written successfully to ClickHouse\n",
      "\n",
      "Processing batch 87 with 1 records\n"
     ]
    },
    {
     "name": "stderr",
     "output_type": "stream",
     "text": [
      "                                                                                \r"
     ]
    },
    {
     "name": "stdout",
     "output_type": "stream",
     "text": [
      "Batch 87 written successfully to ClickHouse\n",
      "\n",
      "Processing batch 88 with 1 records\n"
     ]
    },
    {
     "name": "stderr",
     "output_type": "stream",
     "text": [
      "                                                                                \r"
     ]
    },
    {
     "name": "stdout",
     "output_type": "stream",
     "text": [
      "Batch 88 written successfully to ClickHouse\n",
      "\n",
      "Processing batch 89 with 1 records\n"
     ]
    },
    {
     "name": "stderr",
     "output_type": "stream",
     "text": [
      "                                                                                \r"
     ]
    },
    {
     "name": "stdout",
     "output_type": "stream",
     "text": [
      "Batch 89 written successfully to ClickHouse\n",
      "\n",
      "Processing batch 90 with 1 records\n"
     ]
    },
    {
     "name": "stderr",
     "output_type": "stream",
     "text": [
      "                                                                                \r"
     ]
    },
    {
     "name": "stdout",
     "output_type": "stream",
     "text": [
      "Batch 90 written successfully to ClickHouse\n",
      "\n",
      "Processing batch 91 with 1 records\n"
     ]
    },
    {
     "name": "stderr",
     "output_type": "stream",
     "text": [
      "                                                                                \r"
     ]
    },
    {
     "name": "stdout",
     "output_type": "stream",
     "text": [
      "Batch 91 written successfully to ClickHouse\n",
      "\n",
      "Processing batch 92 with 1 records\n"
     ]
    },
    {
     "name": "stderr",
     "output_type": "stream",
     "text": [
      "                                                                                \r"
     ]
    },
    {
     "name": "stdout",
     "output_type": "stream",
     "text": [
      "Batch 92 written successfully to ClickHouse\n",
      "\n",
      "Processing batch 93 with 1 records\n"
     ]
    },
    {
     "name": "stderr",
     "output_type": "stream",
     "text": [
      "                                                                                \r"
     ]
    },
    {
     "name": "stdout",
     "output_type": "stream",
     "text": [
      "Batch 93 written successfully to ClickHouse\n"
     ]
    },
    {
     "name": "stderr",
     "output_type": "stream",
     "text": [
      "                                                                                \r"
     ]
    },
    {
     "name": "stdout",
     "output_type": "stream",
     "text": [
      "\n",
      "Processing batch 94 with 1 records\n",
      "Batch 94 written successfully to ClickHouse\n"
     ]
    }
   ],
   "source": [
    "def write_to_clickhouse(batch_df, batch_id):\n",
    "    if not batch_df.isEmpty():\n",
    "        print(f\"\\nProcessing batch {batch_id} with {batch_df.count()} records\")\n",
    "        (\n",
    "            batch_df.write.format(\"jdbc\")\n",
    "            .option(\"driver\", \"com.clickhouse.jdbc.ClickHouseDriver\")\n",
    "            .option(\"url\", \"jdbc:clickhouse://clickhouse-server:8123/default\")\n",
    "            .option(\"dbtable\", \"default.streaming_test_table\")\n",
    "            .option(\"user\", \"default\")\n",
    "            .option(\"password\", \"1234qwe\")\n",
    "            .option(\"batchsize\", \"10000\")\n",
    "            .option(\"socket_timeout\", \"300000\")\n",
    "            .option(\"numPartitions\", \"4\")\n",
    "            .option(\"rewriteBatchedStatements\", \"true\")\n",
    "            .mode(\"append\")\n",
    "            .save()\n",
    "        )\n",
    "        print(f\"Batch {batch_id} written successfully to ClickHouse\")\n",
    "    else:\n",
    "        print(f\"Batch {batch_id} is empty, skipping\")\n",
    "\n",
    "query = processed_df.writeStream \\\n",
    "    .foreachBatch(write_to_clickhouse) \\\n",
    "    .outputMode(\"append\") \\\n",
    "    .option(\"checkpointLocation\", \"/tmp/checkpoint/kafka_to_clickhouse\") \\\n",
    "    .start()\n",
    "\n",
    "query.awaitTermination()"
   ]
  },
  {
   "cell_type": "code",
   "execution_count": null,
   "id": "6734451f-675b-4620-a28b-f75123cc5838",
   "metadata": {},
   "outputs": [],
   "source": []
  }
 ],
 "metadata": {
  "kernelspec": {
   "display_name": "Python 3 (ipykernel)",
   "language": "python",
   "name": "python3"
  },
  "language_info": {
   "codemirror_mode": {
    "name": "ipython",
    "version": 3
   },
   "file_extension": ".py",
   "mimetype": "text/x-python",
   "name": "python",
   "nbconvert_exporter": "python",
   "pygments_lexer": "ipython3",
   "version": "3.11.6"
  }
 },
 "nbformat": 4,
 "nbformat_minor": 5
}
